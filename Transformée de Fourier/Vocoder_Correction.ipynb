{
 "cells": [
  {
   "cell_type": "markdown",
   "metadata": {},
   "source": [
    "<div style=\"float: left;\">\n",
    "C. Dossal, P. Noble\n",
    "</div>\n",
    "<div style=\"float: right;\">\n",
    "Novembre 2017\n",
    "</div>\n",
    "<br>\n",
    "\n",
    "<div align=\"center\"; style=\"font-size: 200%; font-weight: bold;\">\n",
    "TP Vocoder de Phase\n",
    "</div>"
   ]
  },
  {
   "cell_type": "code",
   "execution_count": 1,
   "metadata": {
    "collapsed": true
   },
   "outputs": [],
   "source": [
    "import os\n",
    "import sys\n",
    "#sys.path.append('/Users/pascal/Documents/ENSEIGNEMENTS/INSA_4A/AF-SIGNAL-2016/FichiersTP2Signal')\n",
    "#mettre le chemin où vous allez récupérer vos modules.\n",
    "%matplotlib inline\n",
    "from wavtools import *\n",
    "import numpy as np"
   ]
  },
  {
   "cell_type": "code",
   "execution_count": 2,
   "metadata": {
    "collapsed": true
   },
   "outputs": [],
   "source": [
    "def calc_hanning(m,n):\n",
    "    return .5*(1 - np.cos(2*np.pi*np.linspace(1,m,m)/(n+1)))                 "
   ]
  },
  {
   "cell_type": "code",
   "execution_count": 3,
   "metadata": {
    "collapsed": true
   },
   "outputs": [],
   "source": [
    "def hanning(n):\n",
    "    if (n%2) == 0:\n",
    "        # Even length window\n",
    "        half = n//2\n",
    "        w = calc_hanning(half,n)\n",
    "        w = np.concatenate((w,w[::-1]))\n",
    "    else:\n",
    "        # Odd length window\n",
    "        half = (n+1)//2\n",
    "        w = calc_hanning(half,n)\n",
    "        z=w[::-1]\n",
    "        w = np.concatenate((w,z[1:]))\n",
    "    return w"
   ]
  },
  {
   "cell_type": "code",
   "execution_count": 4,
   "metadata": {
    "collapsed": true
   },
   "outputs": [],
   "source": [
    "def Analyse(S,N):\n",
    "    NS=S.shape[0]\n",
    "    Nf=8*NS//N-7\n",
    "    Spec=np.zeros((N,Nf))\n",
    "    Phase=np.zeros((N,Nf))\n",
    "    H=hanning(N);\n",
    "    for i in range(Nf):\n",
    "        temp=H*S[i*N//8:(i+8)*N//8]\n",
    "        ftemp=np.fft.fft(temp)\n",
    "        Spec[:,i]=np.abs(ftemp)\n",
    "        Phase[:,i]=np.angle(ftemp)\n",
    "    return Spec,Phase"
   ]
  },
  {
   "cell_type": "code",
   "execution_count": 5,
   "metadata": {
    "collapsed": true
   },
   "outputs": [],
   "source": [
    "def InterpSpec(Spec,T):\n",
    "    N=Spec.shape[0]\n",
    "    Nf2=T.shape[0]\n",
    "    Spec2=np.zeros((N,Nf2))\n",
    "    for k in range(Nf2):\n",
    "        t=T[k]\n",
    "        indice1=int(np.floor(t))\n",
    "        alpha=t-indice1\n",
    "        Spec2[:,k]=(1-alpha)*Spec[:,indice1]+alpha*Spec[:,indice1+1]\n",
    "    return Spec2"
   ]
  },
  {
   "cell_type": "code",
   "execution_count": 6,
   "metadata": {
    "collapsed": true
   },
   "outputs": [],
   "source": [
    "def Synthese(Spec,Phase):\n",
    "    N=Spec.shape[0]\n",
    "    Nf=Spec.shape[1]\n",
    "    Srec=np.zeros((Nf+7)*N//8)\n",
    "    H=hanning(N)\n",
    "    for k in range(Nf):\n",
    "        ftemp=Spec[:,k]*np.exp(1j*Phase[:,k])\n",
    "        temp=np.real(np.fft.ifft(ftemp))\n",
    "        Srec[k*N//8:(k+8)*N//8]=Srec[k*N//8:(k+8)*N//8]+H*temp\n",
    "    Srec=Srec/4\n",
    "    return Srec"
   ]
  },
  {
   "cell_type": "code",
   "execution_count": 7,
   "metadata": {
    "collapsed": true
   },
   "outputs": [],
   "source": [
    "def InterpPhase(Phase,T):\n",
    "    N=Phase.shape[0]\n",
    "    Nf2=T.shape[0]\n",
    "    Phase2=np.zeros((N,Nf2))\n",
    "    t0=T[0]\n",
    "    indice1=int(np.floor(t0))\n",
    "    Phase2[:,0]=Phase[:,indice1]\n",
    "    for k in range(1,Nf2):\n",
    "        t=T[k]\n",
    "        indice1=int(np.floor(t))\n",
    "        dphase=Phase[:,indice1+1]-Phase[:,indice1]\n",
    "        Phase2[:,k]=Phase2[:,k-1]+dphase\n",
    "    return Phase2"
   ]
  },
  {
   "cell_type": "code",
   "execution_count": 8,
   "metadata": {
    "collapsed": true
   },
   "outputs": [],
   "source": [
    "#S, Fs = open_wave('/Users/pascal/Documents/ENSEIGNEMENTS/INSA_4A/AF-SIGNAL-2016/FichiersTP2Signal/bird.wav')\n",
    "S, Fs = open_wave('samples/bird.wav')"
   ]
  },
  {
   "cell_type": "code",
   "execution_count": 9,
   "metadata": {
    "collapsed": true
   },
   "outputs": [],
   "source": [
    "N=1024\n",
    "Spec,Phase=Analyse(S,N)"
   ]
  },
  {
   "cell_type": "code",
   "execution_count": 10,
   "metadata": {
    "collapsed": true
   },
   "outputs": [],
   "source": [
    "Nf=Spec.shape[1]\n",
    "alpha=2\n",
    "T=np.arange(0,Nf-3,alpha)"
   ]
  },
  {
   "cell_type": "code",
   "execution_count": 11,
   "metadata": {
    "collapsed": true
   },
   "outputs": [],
   "source": [
    "Spec2=InterpSpec(Spec,T)"
   ]
  },
  {
   "cell_type": "code",
   "execution_count": 12,
   "metadata": {
    "collapsed": true
   },
   "outputs": [],
   "source": [
    "Phase2=InterpPhase(Phase,T)"
   ]
  },
  {
   "cell_type": "code",
   "execution_count": 13,
   "metadata": {
    "collapsed": true
   },
   "outputs": [],
   "source": [
    "Srec=Synthese(Spec2,Phase2)"
   ]
  },
  {
   "cell_type": "code",
   "execution_count": 14,
   "metadata": {
    "collapsed": true
   },
   "outputs": [],
   "source": [
    "save_wave(Srec, 'essaiPN.wav', Fs)"
   ]
  },
  {
   "cell_type": "code",
   "execution_count": 15,
   "metadata": {
    "collapsed": true
   },
   "outputs": [],
   "source": [
    "def vocoder(alpha):\n",
    "    #S, Fs = open_wave('/Users/pascal/Documents/ENSEIGNEMENTS/INSA_4A/AF-SIGNAL-2016/FichiersTP2Signal/bird.wav')\n",
    "    S, Fs = open_wave('samples/bird.wav')\n",
    "    N=1024\n",
    "    Spec,Phase=Analyse(S,N)\n",
    "    Nf=Spec.shape[1]\n",
    "    T=np.arange(0,Nf-3,alpha)\n",
    "    Spec2=InterpSpec(Spec,T)\n",
    "    Phase2=InterpPhase(Phase,T)\n",
    "    Srec=Synthese(Spec2,Phase2)\n",
    "    #save_wave(Srec, '/Users/pascal/Documents/ENSEIGNEMENTS/INSA_4A/AF-SIGNAL-2016/FichiersTP2Signal/essaiPN.wav', Fs)\n",
    "    save_wave(Srec, 'essaiPN.wav', Fs)"
   ]
  },
  {
   "cell_type": "code",
   "execution_count": 16,
   "metadata": {
    "collapsed": true
   },
   "outputs": [],
   "source": [
    "vocoder(0.5)"
   ]
  },
  {
   "cell_type": "code",
   "execution_count": null,
   "metadata": {
    "collapsed": true
   },
   "outputs": [],
   "source": []
  }
 ],
 "metadata": {
  "kernelspec": {
   "display_name": "Python 2",
   "language": "python",
   "name": "python2"
  },
  "language_info": {
   "codemirror_mode": {
    "name": "ipython",
    "version": 2
   },
   "file_extension": ".py",
   "mimetype": "text/x-python",
   "name": "python",
   "nbconvert_exporter": "python",
   "pygments_lexer": "ipython2",
   "version": "2.7.13"
  }
 },
 "nbformat": 4,
 "nbformat_minor": 2
}
