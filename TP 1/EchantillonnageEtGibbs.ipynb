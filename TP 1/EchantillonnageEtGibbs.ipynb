{
 "cells": [
  {
   "cell_type": "markdown",
   "metadata": {},
   "source": [
    "# Transformée de Fourier à court terme (dite aussi à fenêtres)."
   ]
  },
  {
   "cell_type": "code",
   "execution_count": null,
   "metadata": {},
   "outputs": [],
   "source": [
    "from __future__ import division\n",
    "import holoviews as hv\n",
    "hv.extension('bokeh')\n",
    "import param\n",
    "import holoviews as hv,panel as pn,param\n",
    "from holoviews.streams import Pipe\n",
    "import time\n",
    "import pandas as pd\n",
    "import panel as pn\n",
    "from panel.pane import LaTeX\n",
    "from scipy.io.wavfile import read\n",
    "from IPython.display import Audio\n",
    "import requests\n",
    "from io import BytesIO\n",
    "from PIL import Image\n",
    "import shutil\n",
    "from urllib.request import urlopen\n",
    "import io\n",
    "import scipy.io as sio\n",
    "\n",
    "import numpy as np\n",
    "import scipy as scp\n",
    "import pylab as pyl\n",
    "from matplotlib import cm\n",
    "import matplotlib.pyplot as plt\n",
    "from scipy import fftpack\n",
    "from matplotlib.pyplot import imshow as imageplot\n",
    "from mpl_toolkits.mplot3d import Axes3D\n",
    "import wave\n",
    "import warnings\n",
    "warnings.filterwarnings('ignore')"
   ]
  },
  {
   "cell_type": "code",
   "execution_count": null,
   "metadata": {},
   "outputs": [],
   "source": [
    "def f1(x):\n",
    "    y=np.mod(x+np.pi,2*np.pi)-np.pi\n",
    "    return y**2"
   ]
  },
  {
   "cell_type": "code",
   "execution_count": null,
   "metadata": {},
   "outputs": [],
   "source": [
    "def SommesPartiellesExo1(n):\n",
    "    N=10000\n",
    "    t=np.linspace(-3*np.pi,3*np.pi,N)\n",
    "    y1=f1(t)\n",
    "    C1=hv.Curve((t,y1),label='Courbe de la fonction f').opts(width=650)\n",
    "    z=np.zeros(N)+np.pi**2/3\n",
    "    for k in np.arange(1,n):\n",
    "        z=z+4*(((-1)**k)/k**2)*np.cos(t*k)\n",
    "    return C1*hv.Curve((t,z),label='Sommes partielles de Fourier')   "
   ]
  },
  {
   "cell_type": "code",
   "execution_count": null,
   "metadata": {},
   "outputs": [],
   "source": [
    "z=SommesPartiellesExo1(20)\n",
    "z"
   ]
  },
  {
   "cell_type": "code",
   "execution_count": null,
   "metadata": {},
   "outputs": [],
   "source": [
    "def f5(x):\n",
    "    y=np.mod(x,2*np.pi)\n",
    "    if y<np.pi:\n",
    "        z=1\n",
    "    else:\n",
    "        z=0\n",
    "    return z\n",
    "vf5=np.vectorize(f5)"
   ]
  },
  {
   "cell_type": "code",
   "execution_count": null,
   "metadata": {},
   "outputs": [],
   "source": [
    "def SommesPartiellesExo5(n):\n",
    "    N=10000\n",
    "    t=np.linspace(-3*np.pi,3*np.pi,N)\n",
    "    y5=vf5(t)\n",
    "    C5=hv.Curve((t,y5),label='Courbe de la fonction f').opts(width=650)\n",
    "    z=np.zeros(N)+0.5\n",
    "    for k in np.arange(1,n):\n",
    "        z=z-(((-1)**k-1)/(np.pi*k))*np.sin(t*k)\n",
    "    return C5*hv.Curve((t,z),label='Sommes partielles de Fourier')   "
   ]
  },
  {
   "cell_type": "code",
   "execution_count": null,
   "metadata": {},
   "outputs": [],
   "source": [
    "z=SommesPartiellesExo5(40)\n",
    "z"
   ]
  },
  {
   "cell_type": "code",
   "execution_count": null,
   "metadata": {},
   "outputs": [],
   "source": [
    "def f6(x):\n",
    "    y=np.mod(x,2*np.pi)\n",
    "    if y<np.pi:\n",
    "        z=1\n",
    "    else:\n",
    "        z=-1\n",
    "    return z\n",
    "vf6=np.vectorize(f6)"
   ]
  },
  {
   "cell_type": "code",
   "execution_count": null,
   "metadata": {},
   "outputs": [],
   "source": [
    "def SommesPartiellesExo6(n):\n",
    "    N=10000\n",
    "    t=np.linspace(-3*np.pi,3*np.pi,N)\n",
    "    y6=vf6(t)\n",
    "    C6=hv.Curve((t,y6),label='Courbe de la fonction f').opts(width=650)\n",
    "    z=np.zeros(N)\n",
    "    for k in np.arange(1,n):\n",
    "        z=z-2*(((-1)**k-1)/(np.pi*k))*np.sin(t*k)\n",
    "    return C6*hv.Curve((t,z),label='Sommes partielles de Fourier') "
   ]
  },
  {
   "cell_type": "code",
   "execution_count": null,
   "metadata": {},
   "outputs": [],
   "source": [
    "z=SommesPartiellesExo6(100)\n",
    "z"
   ]
  },
  {
   "cell_type": "code",
   "execution_count": null,
   "metadata": {},
   "outputs": [],
   "source": [
    "def SommesPartiellesDiscretesExo6(n):\n",
    "    N=10000\n",
    "    t=np.linspace(0,2*np.pi,N)\n",
    "    y=vf6(t)\n",
    "    C=hv.Curve((t,y),label='Courbe de la fonction f sur [0;2 pi]').opts(width=650)\n",
    "    z=np.zeros(N,dtype=complex)\n",
    "    temp=fftpack.fft(y)\n",
    "    z[0:n]=temp[0:n]\n",
    "    z[N-n:N]=temp[N-n:N]\n",
    "    res=np.real(fftpack.ifft(z))\n",
    "    return C*hv.Curve((t,res),label='Approximation de Fourier Discrete').opts(width=650)"
   ]
  },
  {
   "cell_type": "markdown",
   "metadata": {},
   "source": [
    "z=SommesPartiellesDiscretesExo6(100)\n",
    "z"
   ]
  },
  {
   "cell_type": "markdown",
   "metadata": {},
   "source": [
    "# Effets de Gibbs."
   ]
  },
  {
   "cell_type": "markdown",
   "metadata": {},
   "source": [
    "L'effet de Gibbs est l'effet de rebond que l'on observe tant en approximation continue que discrète au niveau des discontinuité. Ce rebond ne diminue pas en amplitude, même pour les grandes valeurs de $n$... On peut observer qu'il reste au dessus de la valeur 1.17...\n",
    "Dans l'exercice 6, on montre qu'il vaut pour un $n$ donné :\n",
    "\\begin{equation}\n",
    "f_n(t_n)=\\frac{2}{\\pi}\\frac{1}{n+1}\\sum_{k=0}^n\\frac{\\sin\\left(\\frac{\\pi(2k+1)}{2n+2}\\right)}{\\frac{2k+1}{2n+2}}\n",
    "\\end{equation}\n",
    "que l'on peut calculer par les commandes suivantes :"
   ]
  },
  {
   "cell_type": "code",
   "execution_count": null,
   "metadata": {},
   "outputs": [],
   "source": [
    "def Gibbs(n):\n",
    "    z=0\n",
    "    for k in np.arange(0,n):\n",
    "        xk=np.pi*(2*k+1)/(2*n+2)\n",
    "        z=z+np.sin(xk)/xk\n",
    "    return z*2/(n+1)\n",
    "print(Gibbs(400))"
   ]
  },
  {
   "cell_type": "markdown",
   "metadata": {},
   "source": [
    "On peut observer que cette somme converge vers une intégrale en remarquant que la somme peut être vue comme une approximation par une somme d'aires de rectangles c'est-à-dire comme une somme de Riemmann. \n",
    "\n",
    "Si on représente graphiquement le vecteur dont la kieme composante est égale à \n",
    "$\\frac{\\sin\\left(\\frac{\\pi(2k+1)}{2n+2}\\right)}{\\frac{2k+1}{2n+2}}$, on obtient le graphe suivant :"
   ]
  },
  {
   "cell_type": "code",
   "execution_count": null,
   "metadata": {},
   "outputs": [],
   "source": [
    "def VecGibbs(n):\n",
    "    z=np.zeros(n)   \n",
    "    a=2/(n+1)\n",
    "    for k in np.arange(0,n):\n",
    "        xk=np.pi*(2*k+1)/(2*n+2)\n",
    "        z[k]=np.sin(xk)/xk\n",
    "    return z\n",
    "test=VecGibbs(100)\n",
    "hv.Bars(test).opts(width=650,xaxis=None)"
   ]
  },
  {
   "cell_type": "markdown",
   "metadata": {},
   "source": [
    "On peut remarquer que la somme associé converge vers l'intégrale d'une fonction... en effet \n"
   ]
  },
  {
   "cell_type": "code",
   "execution_count": null,
   "metadata": {},
   "outputs": [],
   "source": [
    "n=100\n",
    "test=VecGibbs(n)\n",
    "hv.Bars(test).opts(width=650,xaxis=None)\n",
    "t=np.linspace(0.0001,np.pi,n)\n",
    "y=np.sin(t)/t\n",
    "Cu=hv.Curve(y,label='Fontion f(x)=sin(x)/x entre 0 et pi').opts(color='red')\n",
    "hv.Bars(test).opts(margin=10,width=650,xaxis=None)*Cu"
   ]
  },
  {
   "cell_type": "markdown",
   "metadata": {},
   "source": [
    "# Echantillonnage."
   ]
  },
  {
   "cell_type": "markdown",
   "metadata": {},
   "source": [
    "L'objectif de cette section est de comprendre le théorème d'échantillonnage de Shannon présenté dans le poly de cours. Ce théorème qui explique comment on peut reconstruire un signal analogique à partir d'un signal numérique (ou digital) ne peut être directement illustré via un notebook dans ma mesure où tous les signaux considérés sont numériques, ce sotn tous des vecteurs.\n",
    "\n",
    "Nous allons essayer de comprendre ici comment et à quelle condition on peut reconstruire un signal numérique plus ou moins parfaitement à partir d'une version sous-échantillonnée."
   ]
  },
  {
   "cell_type": "code",
   "execution_count": null,
   "metadata": {},
   "outputs": [],
   "source": [
    "local=0\n",
    "if local:\n",
    "    S3=np.load('Piece.npy')\n",
    "    S4=np.load('Blocks.npy')   \n",
    "else:\n",
    "    url='https://plmlab.math.cnrs.fr/dossal/optimisationpourlimage/raw/master/img/Blocks.npy'\n",
    "    response = requests.get(url, stream=True)\n",
    "    with open('blocks.npy', 'wb') as fin:\n",
    "        shutil.copyfileobj(response.raw, fin)\n",
    "    S4=res=np.load('blocks.npy')\n",
    "    url='https://plmlab.math.cnrs.fr/dossal/optimisationpourlimage/raw/master/img/Piece.npy'\n",
    "    response = requests.get(url, stream=True)\n",
    "    with open('piece.npy', 'wb') as fin:\n",
    "        shutil.copyfileobj(response.raw, fin)\n",
    "    S3=res=np.load('piece.npy')\n",
    "#pn.Row(hv.Curve(S3),hv.Curve(S4))\n",
    "def Gaussienne(N,sigma2,b):\n",
    "    x = np.linspace(-b, b, N)\n",
    "    y=np.exp(-np.abs(x)*np.abs(x)/sigma2)\n",
    "    return y\n",
    "gau=Gaussienne(1024,1,10)\n",
    "Fgau=fftpack.fft(gau)\n",
    "SignauxRef= {\"Piece\" : S3,\"Blocks\" : S4,\"Gaussienne\": gau}"
   ]
  },
  {
   "cell_type": "markdown",
   "metadata": {},
   "source": [
    "Autrement dit : est il possible de reconstruire correctement le vecteur du haut sur 1024 points à partir de celui du bas échantillonné à 1 point sur 4 ?"
   ]
  },
  {
   "cell_type": "code",
   "execution_count": null,
   "metadata": {},
   "outputs": [],
   "source": [
    "S=SignauxRef[\"Piece\"]\n",
    "Sechan=S[0:1024:4]\n",
    "pn.Column(hv.Curve(S,label='original vector').opts(width=700),hv.Curve(Sechan,label='sampled vector').opts(width=700))"
   ]
  },
  {
   "cell_type": "markdown",
   "metadata": {},
   "source": [
    "Une idée naïve serait de recopier chacune des valeurs 4 fois ou de faire une interpolation linéaire. Or aucune de ces méthodes ne donnent de résultats satisfaisants."
   ]
  },
  {
   "cell_type": "markdown",
   "metadata": {},
   "source": [
    "Une manière d'effectuer cette reconstruction est de comprendre la manière dont l'échantillonnage agit sur un vecteur dans le domaine de Fourier. On affiche ici les modules des transformées de Fourier des deux signaux... l'un est sur 1024 points, le second sur 256 :"
   ]
  },
  {
   "cell_type": "code",
   "execution_count": null,
   "metadata": {},
   "outputs": [],
   "source": [
    "FS=np.abs(fftpack.fft(S))\n",
    "FSechan=np.abs(fftpack.fft(Sechan))\n",
    "pn.Column(hv.Curve(FS,label='Module dof the fft of the original vector').opts(width=700)\\\n",
    "          ,hv.Curve(FSechan,label='Module dof the fft of the sampled vector').opts(width=700))"
   ]
  },
  {
   "cell_type": "markdown",
   "metadata": {},
   "source": [
    "Il n'est pas possible de comparer directement les fft (ou les fréquences) de ces deux vecteurs car ils ne sont pas de la même dimension. Il faut toujours garder à l'esprit que ces suites nesont que des représentants d'une période d'une suite infinie périodique.\n",
    "Pour mieux comprendre l'effet d'un échantillonage sur un vecteur, il est préférable de l'échantillonner en conservant un vecteur de même taille que le vecteur original et de mettre les coefficients qu'on ne sélectionne pas à 0 :"
   ]
  },
  {
   "cell_type": "code",
   "execution_count": null,
   "metadata": {},
   "outputs": [],
   "source": [
    "Sechan2=S*0\n",
    "Sechan2[0:1024:4]=Sechan\n",
    "FSechan2=np.abs(fftpack.fft(Sechan2))\n",
    "pn.Row(pn.Column(hv.Curve(S),hv.Curve(Sechan2),hv.Curve(Sechan)),\\\n",
    "      pn.Column(hv.Curve(FS),hv.Curve(FSechan2),hv.Curve(FSechan)))"
   ]
  },
  {
   "cell_type": "markdown",
   "metadata": {},
   "source": [
    "On peut faire plusieurs observations à partir de ces graphiques :\n",
    "Si la transformée de Fourier de la dernière ligne correspond à une seule période de la suite infinie des $\\hat f[k]$, la seconde ligne correspond à 4 périodes de cette même suite.\n",
    "Comme on peut le vérifier aisément en zoomant sur le les 256 premiers coefficients de la fft de la seconde ligne ou en comparant les deux vecteurs en les superposant."
   ]
  },
  {
   "cell_type": "code",
   "execution_count": null,
   "metadata": {},
   "outputs": [],
   "source": [
    "hv.Curve(FSechan,label='FSechan')\\\n",
    "*hv.Curve(FSechan2[0:256],label='256 premiers coefficients de FSechan2').opts(width=700)"
   ]
  },
  {
   "cell_type": "markdown",
   "metadata": {},
   "source": [
    "Une seconde remarque qu'on peut faire est que les coefficients de Fourier discret du signal échantillonnés... sont obtenus à partir des coefficients du signal original en les périodisant. Ainsi le vecteur de droite, FFT du signal échantillonné peut être obtenu en sommant des versions décalées de la FFT du signal original. Démonstration :"
   ]
  },
  {
   "cell_type": "code",
   "execution_count": null,
   "metadata": {},
   "outputs": [],
   "source": [
    "FSe=fftpack.fft(S)\n",
    "FS1=np.roll(FSe,256)\n",
    "FS2=np.roll(FSe,512)\n",
    "FS3=np.roll(FSe,768)\n",
    "hv.Curve(np.abs(FS))*hv.Curve(np.abs(FS1))*hv.Curve(np.abs(FS2))*hv.Curve(np.abs(FS3))\n",
    "Fper=(FSe+FS1+FS2+FS3)/4\n",
    "C=hv.Curve(np.abs(FSe))*hv.Curve(np.abs(FS1))\\\n",
    "*hv.Curve(np.abs(FS2))*hv.Curve(np.abs(FS3)).opts(width=800,title='spectre périodisé')\n",
    "Frec=np.real(fftpack.ifft(Fper))\n",
    "\n",
    "pn.Column(C,hv.Curve(Frec,label='Signal obtenu par périodisation de la FFT').opts(width=800),\n",
    "          hv.Curve(Sechan2,label='Signal echantillonné').opts(width=800))"
   ]
  },
  {
   "cell_type": "markdown",
   "metadata": {},
   "source": [
    "Une manière de comprendre ce lien entre échantillonnage du signal et périodisation est de voir que l'échantillonnage correspond à une multiplication par un peigne de Dirac."
   ]
  },
  {
   "cell_type": "code",
   "execution_count": null,
   "metadata": {},
   "outputs": [],
   "source": [
    "P=np.zeros(1024)\n",
    "P[0:1024:4]=np.ones(256)\n",
    "Echan3=S*P\n",
    "pn.Column(hv.Curve(S).opts(width=800),hv.Curve(P).opts(width=800),hv.Curve(Echan3).opts(width=800))"
   ]
  },
  {
   "cell_type": "markdown",
   "metadata": {},
   "source": [
    "Ainsi l'échantillonnage va se traduire par une convolution dans le domaine de Fourier. une convolution par la transformée de Fourier d'un peigne de Dirac. Or la transformée de Fourier d'un Peigne de Dirac est un peigne de Dirac... et la convolution par un peigne de Dirac est exactement une périodisation. Par exemple si on échantillonne en ne prenant un point sur 4, on périodise la FFT 4 fois.   "
   ]
  },
  {
   "cell_type": "code",
   "execution_count": null,
   "metadata": {},
   "outputs": [],
   "source": [
    "pn.Column(hv.Curve(FS,label='FFT du signal original')\\\n",
    "          .opts(width=800),hv.Curve(FSechan2,label='FFT du signal échantillonné').opts(width=800))"
   ]
  },
  {
   "cell_type": "markdown",
   "metadata": {},
   "source": [
    "# Reconstruire un signal à partir d'un signal sous échantillonné. "
   ]
  },
  {
   "cell_type": "markdown",
   "metadata": {},
   "source": [
    "L'idée de l'algorithme de reconstruction est assez simple : On élimine les réplications du spectre (dans le domaine de Fourier) en effectuant une multiplication par une indicatrice dans le domaine de Fourier :"
   ]
  },
  {
   "cell_type": "code",
   "execution_count": null,
   "metadata": {},
   "outputs": [],
   "source": [
    "ind=np.zeros(1024)\n",
    "ind[0:128]=np.ones(128)\n",
    "ind[1024-128:1024]=np.ones(128)\n",
    "M=np.max(FSechan2)\n",
    "FSrec=np.real(FSechan2*ind)\n",
    "pn.Column(hv.Curve(FSechan2,label='FFT du signal échantillonné')*hv.Curve(M*ind).opts(width=800),\\\n",
    "          hv.Curve(M*ind).opts(color='red')*hv.Curve(FSrec,label='FFT recosntruite par filtrage').opts(width=800,color='black'))"
   ]
  },
  {
   "cell_type": "markdown",
   "metadata": {},
   "source": [
    "On reconstruit alors le signal en effectuant une transformée de Fourier inverse :"
   ]
  },
  {
   "cell_type": "code",
   "execution_count": null,
   "metadata": {},
   "outputs": [],
   "source": [
    "temp=fftpack.fft(Sechan2)*ind\n",
    "Srec=np.real(fftpack.ifft(temp))*4\n",
    "hv.Curve(S,label='Signal original')*\\\n",
    "hv.Curve(Srec,label='Signal reconstruit à partir du signal sous-échantillonné').opts(width=800)\n"
   ]
  },
  {
   "cell_type": "markdown",
   "metadata": {},
   "source": [
    "On peut observer que le signal est plutôt bien reconstruit sur les parties régulières mais certaines hautes fréquences manquent ce qui induit des effets de Gibbs.\n",
    "\n",
    "En résumé l'échantillonnage induit des réplications périodiques du spectre à des fréquences qui sont des multiples de la fréquence d'échantillonage. Par exemple, si on échantillonne tous les 4 points et qu'on considère un signal sur 1024 points on réplique le spectre en ajoutant des \"fantômes\" tous les 1024/4=256 points. \n",
    "Si on échantillonne tous les 8 points on crée encore plus de fantômes du spectre :"
   ]
  },
  {
   "cell_type": "code",
   "execution_count": null,
   "metadata": {},
   "outputs": [],
   "source": [
    "Sechan8=0*S\n",
    "Sechan8[0:1024:8]=S[0:1024:8]\n",
    "FS8=np.abs(fftpack.fft((Sechan8)))\n",
    "pn.Column(hv.Curve(FS,label='FFT du signal original').opts(width=800),\\\n",
    "         hv.Curve(FS8,label='FFT du signal échantillonné tous les 8 points').opts(width=800))"
   ]
  },
  {
   "cell_type": "markdown",
   "metadata": {},
   "source": [
    "Pour reconstruire le signal, on le multplie dans le domaine de Fourier par une indicatrice et on effectue une transformée de Fourier inverse. Une telle reconstruction est équivalente à effectuer une convolution dans le domaine spatial (ou temporel) par un sinus cardinal."
   ]
  },
  {
   "cell_type": "code",
   "execution_count": null,
   "metadata": {},
   "outputs": [],
   "source": [
    "ind8=np.zeros(1024)\n",
    "ind8[0:64]=np.ones(64)\n",
    "ind8[1024-64:1024]=np.ones(64)\n",
    "M=np.max(FS8)\n",
    "temp=np.real(fftpack.ifft(fftpack.fft(Sechan8)*ind8))*8\n",
    "pn.Column(hv.Curve(FS8,label='FFT du signal échantillonné tous les 8 points').opts(width=800)\\\n",
    "          *hv.Curve(M*ind8)*hv.VLine(128).opts(color='black'),\\\n",
    "          hv.Curve(S,label='Sinal original')*hv.Curve(temp,label='Signal reconstruit').opts(width=800))"
   ]
  },
  {
   "cell_type": "markdown",
   "metadata": {},
   "source": [
    "Les questions qui se posent alors sont : \n",
    "\n",
    "1) Pourquoi la reconstruction n'est pas toujours parfaite ?\n",
    "\n",
    "2) A quelle condition l'est elle ?\n",
    "\n",
    "3) Si cette condition n'est pas vérifiée, peut on améliorer le procédé d'échantillonnage ?\n",
    "\n",
    "La réponse à la première question est simple : \n",
    "L'échantillonnage en périodisant le spectre a pour effet de mélanger les hautes et les basses fréquences c'est ce qu'on appelle le repliement spectral ou l'aliasing en anglais. Ainsi même les basses fréquences du signal échantillonné peuvent être différentes de celles du signal original. De plus, le procédé de reconstruction coupe les hautes fréquences. Ainsi les hautes fréquences posent un problème double :\n",
    "on ne peut pas les recosntruire et en plus elles peuvent altérer les basses fréquences.\n",
    "\n",
    "Mais de quelles hautes fréquences parle-t-on ? \n",
    "Si on considère un signal sur N points et qu'on échantillonne le signal tous les d points, les \"hautes fréquences\" qui poseront problème pour la reconstruction seront celles dont les indices sont entre $\\frac{N}{2d}$ et \n",
    "$N-\\frac{N}{2d}$. Si on note $Fe=\\frac{N}{d}$ la fréquence d'échantillonnage, le procédé de reconstruction du signal à partir de sa version sous-échantillonnée à une fréquence $Fe$ est exacte si pour toutes les fréquences $k>F_{max}=2Fe$ on a $\\hat f[k]=0$. C'est-à-dire si la transformée de Fourier du signal original est à support dans $[-F_{max},F_{max}]$ avec $F_{max}>2Fe$.  \n",
    "\n"
   ]
  },
  {
   "cell_type": "code",
   "execution_count": null,
   "metadata": {},
   "outputs": [],
   "source": [
    "class Echansig(param.Parameterized):\n",
    "    Signal = param.ObjectSelector(default=\"Gaussienne\",objects=SignauxRef.keys())\n",
    "    logEchan = param.Integer(4,bounds=(1,7))\n",
    "    def view(self):\n",
    "        S=SignauxRef[self.Signal]\n",
    "        gau=S\n",
    "        N=1024\n",
    "        d=2**self.logEchan\n",
    "        Sechan=0*S\n",
    "        Sechan[0:N:d]=S[0:N:d]\n",
    "        FSechan=fftpack.fft(Sechan)*d\n",
    "        FS=fftpack.fft(S)\n",
    "        ind=np.zeros(N)\n",
    "        Fe=int(N/(2*d))\n",
    "        ind[0:Fe]=np.ones(Fe)\n",
    "        ind[N-Fe:N]=np.ones(Fe)\n",
    "        Frec=FSechan*ind\n",
    "        Srec=np.real(fftpack.ifft(Frec))\n",
    "        C1=hv.Curve(S,label='Signal original').opts(width=800)\n",
    "        C2=hv.Curve(Sechan,label='Signal échantillonné').opts(width=800)\n",
    "        C3=hv.Curve(Srec,label='Signal reconstruit').opts(width=800,color='black')\n",
    "        C4=hv.Curve(np.abs(FS),label='FFT du Signal original').opts(width=800)\n",
    "        C5=hv.Curve(np.abs(FSechan),label='FFT du Signal echantillonné').opts(width=800)\n",
    "        C6=hv.Curve(np.abs(Frec),label='FFT du Signal reconstruit').opts(width=800,color='black')\n",
    "        return pn.Column(C1*C2*C3,C4*C5*C6*hv.VLine(int(1024/d)).opts(color='green'))\n"
   ]
  },
  {
   "cell_type": "code",
   "execution_count": null,
   "metadata": {},
   "outputs": [],
   "source": [
    "Es= Echansig()\n",
    "pn.Column(Es.param,Es.view)"
   ]
  },
  {
   "cell_type": "markdown",
   "metadata": {},
   "source": [
    "On peut limiter le repliement spectral des hautes fréquences sur les basses fréquences en les coupant avant l'échantillonnage, c'est-à-dire en filtrant le signal avant l'échantillonnage. Cette opération de filtrage est appelé antialising. Ainsi pour échantillonner un signal en utilisant un filtre anti-aliasing :\n",
    "\n",
    "1) On filtre le signal en supprimant toutes les fréquences supérieurs à $2Fe$.\n",
    "\n",
    "2) On échantillone ensuite le signal.\n",
    "\n",
    "3) On reconstruit ensuite avec la même procédure que précedemment.\n",
    "\n",
    "Dans l'exemple ci dessous on voit le gain en terme de norme et visuel d'un filtre antialising."
   ]
  },
  {
   "cell_type": "code",
   "execution_count": null,
   "metadata": {},
   "outputs": [],
   "source": [
    "S=SignauxRef[\"Blocks\"]\n",
    "N=1024\n",
    "Fe=64\n",
    "d=int(N/(2*Fe))\n",
    "ind=np.zeros(N)\n",
    "ind[0:Fe]=np.ones(Fe)\n",
    "ind[N-Fe:N]=np.ones(Fe)\n",
    "Sechan=np.zeros(N)\n",
    "Sechan[0:N:d]=S[0:N:d]\n",
    "FS=fftpack.fft(S)\n",
    "FSalias=FS*ind\n",
    "temp=np.real(fftpack.ifft(FSalias))\n",
    "Sechan2=np.zeros(N)\n",
    "Sechan2[0:N:d]=temp[0:N:d]\n",
    "FSechan=fftpack.fft(Sechan)\n",
    "hv.Curve(S,label='Signal original')*hv.Curve(Sechan,label='Signal échantillonné sans filtre antiliasing')\\\n",
    "*hv.Curve(Sechan2,label='Signal échantillonné avec filtre antiliasing').opts(width=800)"
   ]
  },
  {
   "cell_type": "code",
   "execution_count": null,
   "metadata": {},
   "outputs": [],
   "source": [
    "Srec1=np.real(fftpack.ifft(FSechan*ind))*d\n",
    "Srec2=np.real(fftpack.ifft(fftpack.fft(Sechan2)*ind))*d\n",
    "hv.Curve(S,label='Signal original').opts(width=800)*\\\n",
    "hv.Curve(Srec1,label='Reconstruction sans filtrage antialiasing').opts(width=800)*\\\n",
    "hv.Curve(Srec2,label='Reconstruction avec filtrage antialiasing').opts(width=800)"
   ]
  },
  {
   "cell_type": "markdown",
   "metadata": {},
   "source": [
    "L'erreur que l'on commet sans filtre antialiasing est environ deux fois supérieur à ce que l'on commet quand on filtre préalablement le signal. Pourquoi ?"
   ]
  },
  {
   "cell_type": "code",
   "execution_count": null,
   "metadata": {},
   "outputs": [],
   "source": [
    "print(np.sum(np.abs((S-Srec1)**2)),np.sum(np.abs((S-Srec2)**2)))"
   ]
  },
  {
   "cell_type": "code",
   "execution_count": null,
   "metadata": {},
   "outputs": [],
   "source": []
  }
 ],
 "metadata": {
  "kernelspec": {
   "display_name": "Python 3",
   "language": "python",
   "name": "python3"
  },
  "language_info": {
   "codemirror_mode": {
    "name": "ipython",
    "version": 3
   },
   "file_extension": ".py",
   "mimetype": "text/x-python",
   "name": "python",
   "nbconvert_exporter": "python",
   "pygments_lexer": "ipython3",
   "version": "3.7.8"
  },
  "latex_envs": {
   "LaTeX_envs_menu_present": true,
   "autoclose": false,
   "autocomplete": true,
   "bibliofile": "biblio.bib",
   "cite_by": "apalike",
   "current_citInitial": 1,
   "eqLabelWithNumbers": true,
   "eqNumInitial": 1,
   "hotkeys": {
    "equation": "Ctrl-E",
    "itemize": "Ctrl-I"
   },
   "labels_anchors": false,
   "latex_user_defs": false,
   "report_style_numbering": false,
   "user_envs_cfg": false
  }
 },
 "nbformat": 4,
 "nbformat_minor": 2
}
