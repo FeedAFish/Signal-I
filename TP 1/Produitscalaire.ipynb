{
 "cells": [
  {
   "cell_type": "code",
   "execution_count": null,
   "metadata": {},
   "outputs": [],
   "source": [
    "import holoviews as hv\n",
    "hv.extension('bokeh')\n",
    "import numpy as np\n",
    "import param\n",
    "import holoviews as hv,panel as pn,param\n",
    "from holoviews.streams import Pipe\n",
    "import time\n",
    "import pandas as pd\n",
    "import hvplot.pandas\n",
    "import panel as pn\n",
    "from panel.pane import LaTeX\n",
    "import scipy.io as sio\n",
    "from scipy.io.wavfile import read\n",
    "from scipy import fftpack\n",
    "from IPython.display import Audio"
   ]
  },
  {
   "cell_type": "code",
   "execution_count": null,
   "metadata": {},
   "outputs": [],
   "source": [
    "class PS2D(param.Parameterized):\n",
    "    u1 = param.Number(1,bounds=(-2,2))\n",
    "    u2 = param.Number(0,bounds=(-2,2))\n",
    "    v1 = param.Number(0,bounds=(-2,2))\n",
    "    v2 = param.Number(1,bounds=(-2,2))\n",
    "    def view(self):\n",
    "        options = dict(width=250,height=250,toolbar=None)\n",
    "        stru1=\"%2.1f\" % self.u1\n",
    "        stru2=\"%2.1f\" % self.u2\n",
    "        strv1=\"%2.1f\" % self.v1\n",
    "        strv2=\"%2.1f\" % self.v2\n",
    "        ps=self.u1*self.v1+self.u2*self.v2\n",
    "        strps=\"%2.1f\" % ps\n",
    "        text1='u=('+stru1+','+stru2+')'\n",
    "        text2='v=('+strv1+','+strv2+')' \n",
    "        text3='produit scalaire= '+strps\n",
    "        f1=hv.Curve(([0,self.u1],[0,self.u2])).opts(line_width=3).redim.range(x=(-2,2),y=(-2,2))\n",
    "        f2=hv.Curve(([0,self.v1],[0,self.v2])).opts(line_width=3).redim.range(x=(-2,2),y=(-2,2))\n",
    "        b1=hv.Bars([self.u1,self.u2]).redim.range(x=(-0.5,1.5),y=(-2,2)).opts(color='blue').opts(**options)\n",
    "        b2=hv.Bars([self.v1,self.v2]).redim.range(x=(-0.5,1.5),y=(-2,2)).opts(color='red').opts(**options)\n",
    "       \n",
    "        return pn.Column(pn.Row(f1*f2.opts(**options)\\\n",
    "                                ,hv.Text(0.5,0.7,text1).opts(color='blue')\\\n",
    "                                *hv.Text(0.5,0.5,text2).opts(color='red').opts(**options)\n",
    "                               *hv.Text(0.5,0.3,text3).opts(color='black')),\\\n",
    "                         pn.Row(b1,b2))"
   ]
  },
  {
   "cell_type": "code",
   "execution_count": null,
   "metadata": {},
   "outputs": [],
   "source": [
    "Ps2d= PS2D()\n",
    "pn.Row(Ps2d.param,Ps2d.view)"
   ]
  },
  {
   "cell_type": "code",
   "execution_count": null,
   "metadata": {},
   "outputs": [],
   "source": [
    "class PS3D(param.Parameterized):\n",
    "    u1 = param.Number(1,bounds=(-2,2))\n",
    "    u2 = param.Number(0,bounds=(-2,2))\n",
    "    u3 = param.Number(0,bounds=(-2,2))\n",
    "    v1 = param.Number(0,bounds=(-2,2))\n",
    "    v2 = param.Number(1,bounds=(-2,2))\n",
    "    v3 = param.Number(1,bounds=(-2,2))\n",
    "    def view(self):\n",
    "        options = dict(width=250,height=250,toolbar=None)\n",
    "        options2 = dict(width=500,height=150,toolbar=None)\n",
    "        stru1=\"%2.1f\" % self.u1\n",
    "        stru2=\"%2.1f\" % self.u2\n",
    "        strv1=\"%2.1f\" % self.v1\n",
    "        strv2=\"%2.1f\" % self.v2\n",
    "        stru3=\"%2.1f\" % self.u3\n",
    "        strv3=\"%2.1f\" % self.v3\n",
    "        ps=self.u1*self.v1+self.u2*self.v2+self.u3*self.v3\n",
    "        strps=\"%2.1f\" % ps\n",
    "        text1='u=('+stru1+','+stru2+','+stru3+')'\n",
    "        text2='v=('+strv1+','+strv2+','+strv3+')' \n",
    "        text3='produit scalaire= '+strps\n",
    "        b1=hv.Bars([self.u1,self.u2,self.u3]).redim.range(x=(-0.5,1.5),y=(-2,3)).opts(color='blue').opts(**options)\n",
    "        b2=hv.Bars([self.v1,self.v2,self.v3]).redim.range(x=(-0.5,1.5),y=(-2,3)).opts(color='red').opts(**options)\n",
    "       \n",
    "        return pn.Column(hv.Text(0.5,0.7,text1).opts(color='blue')*hv.Text(0.5,0.5,text2)\\\n",
    "                         .opts(color='red').opts(**options2).opts(xaxis=None,yaxis=None)\n",
    "                               *hv.Text(0.5,0.3,text3).opts(color='black'),\\\n",
    "                         pn.Row(b1*hv.Text(1,2.5,text1).opts(color='blue')\\\n",
    "                                ,b2*hv.Text(1,2.5,text2).opts(color='red')))"
   ]
  },
  {
   "cell_type": "code",
   "execution_count": null,
   "metadata": {},
   "outputs": [],
   "source": [
    "Ps3d= PS3D()\n",
    "pn.Row(Ps3d.param,Ps3d.view)"
   ]
  },
  {
   "cell_type": "code",
   "execution_count": null,
   "metadata": {},
   "outputs": [],
   "source": [
    "class PSND(param.Parameterized):\n",
    "    u1 = param.Number(-11.7,bounds=(-20,20))\n",
    "    u2 = param.Number(3.6,bounds=(-20,20))\n",
    "    u3 = param.Number(12.3,bounds=(-20,20))\n",
    "    v1 = param.Number(2.2,bounds=(-20,20))\n",
    "    v2 = param.Number(15.7,bounds=(-20,20))\n",
    "    v3 = param.Number(7,bounds=(-20,20))\n",
    "    def view(self):\n",
    "        N=10\n",
    "        options = dict(width=250,height=250,toolbar=None)\n",
    "        options2 = dict(width=250,height=150,toolbar=None,xaxis=None,yaxis=None)\n",
    "        x=np.linspace(-1,1,N)\n",
    "        u=(self.u1+self.u2*x+self.u3*x**2)/10\n",
    "        v=(self.v1+self.v2*x+self.v3*x**2)/10\n",
    "        w=u*v\n",
    "        b3=hv.Bars(w).redim.range(x=(-0.5,1.5),y=(-4,5)).opts(color='black').opts(**options)\n",
    "        ps=np.sum(u*v)\n",
    "        strps=\"%2.1f\" % ps\n",
    "        b1=hv.Bars(u).redim.range(x=(-0.5,1.5),y=(-2,3)).opts(color='blue').opts(**options)\n",
    "        b2=hv.Bars(v).redim.range(x=(-0.5,1.5),y=(-2,3)).opts(color='red').opts(**options)\n",
    "        text=hv.Text(0.5,0.5,'Produit scalaire= '+strps).opts(**options2).opts(fontsize=30)\n",
    "        return pn.Column(pn.Row(b1,b2),pn.Row(b3,text))"
   ]
  },
  {
   "cell_type": "code",
   "execution_count": null,
   "metadata": {},
   "outputs": [],
   "source": [
    "Psnd= PSND()\n",
    "pn.Row(Psnd.param,Psnd.view)"
   ]
  },
  {
   "cell_type": "code",
   "execution_count": null,
   "metadata": {},
   "outputs": [],
   "source": [
    "Affichelist = ['bar','area','curve']"
   ]
  },
  {
   "cell_type": "code",
   "execution_count": null,
   "metadata": {},
   "outputs": [],
   "source": [
    "class PSNDSin(param.Parameterized):\n",
    "    f1 = param.Number(1.5,bounds=(-10,10))\n",
    "    f2 = param.Number(2,bounds=(-10,10))\n",
    "    aff = param.ObjectSelector(default=\"bar\",objects=Affichelist)\n",
    "    N = param.Integer(50,bounds=(2,300))\n",
    "    def view(self):\n",
    "        options = dict(width=300,height=250,toolbar=None,xaxis=None)\n",
    "        options2 = dict(width=300,height=150,toolbar=None,xaxis=None,yaxis=None)\n",
    "        x=np.linspace(0,2*np.pi,self.N)\n",
    "        u=np.cos(self.f1*x)\n",
    "        v=np.cos(self.f2*x)\n",
    "        w=u*v\n",
    "        if (self.aff=='bar'):\n",
    "            b3=hv.Bars(w).redim.range(x=(-0.5,1.5),y=(-1.1,1.1)).opts(color='black').opts(**options)\n",
    "            b1=hv.Bars(u).redim.range(x=(-0.5,2*np.pi),y=(-1.1,1.1)).opts(color='blue').opts(**options)\n",
    "            b2=hv.Bars(v).redim.range(x=(-0.5,2*np.pi),y=(-1.1,1.1)).opts(color='red').opts(**options)\n",
    "        elif (self.aff=='curve'):\n",
    "            b3=hv.Curve(w).redim.range(x=(-0.5,self.N),y=(-1.1,1.1)).opts(color='black').opts(**options)\n",
    "            b1=hv.Curve(u).redim.range(x=(-0.5,self.N),y=(-1.1,1.1)).opts(color='blue').opts(**options)\n",
    "            b2=hv.Curve(v).redim.range(x=(-0.5,self.N),y=(-1.1,1.1)).opts(color='red').opts(**options)\n",
    "        else:\n",
    "            b3=hv.Area(w).redim.range(x=(-0.5,self.N),y=(-1.1,1.1)).opts(color='black').opts(**options)\n",
    "            b1=hv.Area(u).redim.range(x=(-0.5,self.N),y=(-1.1,1.1)).opts(color='blue').opts(**options)\n",
    "            b2=hv.Area(v).redim.range(x=(-0.5,self.N),y=(-1.1,1.1)).opts(color='red').opts(**options)\n",
    "            \n",
    "        ps=np.sum(w)\n",
    "        strps=\"%2.1f\" % ps\n",
    "        text=hv.Text(0.5,0.5,'Produit scalaire= '+strps).opts(**options2).opts(fontsize=30)\n",
    "        return pn.Column(pn.Row(b1,b2),pn.Row(b3,text))"
   ]
  },
  {
   "cell_type": "code",
   "execution_count": null,
   "metadata": {},
   "outputs": [],
   "source": [
    "Psnds= PSNDSin()\n",
    "pn.Row(Psnds.param,Psnds.view)"
   ]
  },
  {
   "cell_type": "code",
   "execution_count": null,
   "metadata": {},
   "outputs": [],
   "source": [
    "Fe=44100\n",
    "T=np.linspace(0,2*np.pi,3*Fe)\n",
    "son1=np.cos(880*T)\n",
    "text1=hv.Text(70,0.4,'5ms de son',fontsize=20)\n",
    "text2=hv.Text(500,0.3,'25ms de son',fontsize=20)\n",
    "Audio(son1, rate = Fe)"
   ]
  },
  {
   "cell_type": "code",
   "execution_count": null,
   "metadata": {},
   "outputs": [],
   "source": [
    "pn.Column(hv.Bars(son1[0:200]).opts(width=800,xaxis=None,yaxis=None,color='black')*text1\\\n",
    "          ,hv.Curve(son1[0:1000]).opts(width=800,xaxis=None,yaxis=None)*hv.Bars(son1[0:200])*text2)"
   ]
  },
  {
   "cell_type": "code",
   "execution_count": null,
   "metadata": {},
   "outputs": [],
   "source": [
    "Fe=44100\n",
    "T=np.linspace(0,2*np.pi,3*Fe)\n",
    "son2=np.cos(1760*T)\n",
    "text3=hv.Text(110,0.4,'5ms de son',fontsize=20)\n",
    "text4=hv.Text(500,0.3,'25ms de son',fontsize=20)\n",
    "Audio(son2, rate = Fe)"
   ]
  },
  {
   "cell_type": "code",
   "execution_count": null,
   "metadata": {},
   "outputs": [],
   "source": [
    "pn.Column(hv.Bars(son2[0:200]).opts(width=800,xaxis=None,yaxis=None,color='black')*text3\\\n",
    "          ,hv.Curve(son2[0:1000]).opts(width=800,xaxis=None,yaxis=None)*hv.Bars(son2[0:200])*text4)"
   ]
  },
  {
   "cell_type": "code",
   "execution_count": null,
   "metadata": {},
   "outputs": [],
   "source": [
    "Fe=44100\n",
    "SonGuitare=\"Guitare.wav\"\n",
    "gui=read(SonGuitare)\n",
    "guit=gui[1]/2**14\n",
    "Audio(guit, rate=Fe)"
   ]
  },
  {
   "cell_type": "code",
   "execution_count": null,
   "metadata": {},
   "outputs": [],
   "source": [
    "Saxo=sio.loadmat('Saxo.mat')\n",
    "Saxo1=Saxo['S']\n",
    "Saxo2=Saxo['S1']\n",
    "temp=np.zeros(913)\n",
    "for k in range(0,913):\n",
    "    temp[k]=Saxo2[k]\n",
    "Saxo2=temp\n",
    "N1=int(len(Saxo1)/3)\n",
    "temp=np.zeros(N1)\n",
    "for k in range(0,N1):\n",
    "    temp[k]=Saxo1[k]\n",
    "sax=temp\n",
    "Audio(sax, rate=Fe)"
   ]
  },
  {
   "cell_type": "code",
   "execution_count": null,
   "metadata": {},
   "outputs": [],
   "source": [
    "d2=64000+29\n",
    "Ext=sax[d2:d2+1462]\n",
    "print(np.shape(Ext))\n",
    "#pn.Column(hv.Curve(Ext).opts(width=800),hv.Curve(np.abs(fftpack.fft(Ext)[0:150])))"
   ]
  },
  {
   "cell_type": "code",
   "execution_count": null,
   "metadata": {},
   "outputs": [],
   "source": [
    "d2=64000\n",
    "Ext2=guit[d2:d2+1500]\n",
    "pn.Column(hv.Curve(guit).opts(width=800),hv.Curve(Ext2).opts(width=800))"
   ]
  },
  {
   "cell_type": "code",
   "execution_count": null,
   "metadata": {},
   "outputs": [],
   "source": [
    "def ApproxFourier(s,n):\n",
    "    N=np.shape(s)[0]\n",
    "    fs=fftpack.fft(s)\n",
    "    afs=np.abs(fs)\n",
    "    temp=np.argsort(afs)\n",
    "    fsrec=fs*0\n",
    "    for k in np.arange(1,2*n+1):\n",
    "        fsrec[temp[N-k]]=fs[temp[N-k]]\n",
    "    fapprox=np.real(fftpack.ifft(fsrec))\n",
    "    return fapprox,fsrec"
   ]
  },
  {
   "cell_type": "code",
   "execution_count": null,
   "metadata": {},
   "outputs": [],
   "source": [
    "print(np.arange(1,5))"
   ]
  },
  {
   "cell_type": "code",
   "execution_count": null,
   "metadata": {},
   "outputs": [],
   "source": [
    "def ApproxFourier2(s,n):\n",
    "    N=np.shape(s)[0]\n",
    "    fs=fftpack.fft(s)\n",
    "    afs=np.abs(fs)\n",
    "    temp=np.argsort(afs)\n",
    "    fsrec=fs*0\n",
    "    fig=hv.Curve(s)\n",
    "    for k in np.arange(1,2*n+1):\n",
    "        fsrec[temp[N-k]]=fs[temp[N-k]]\n",
    "        if np.mod(k+1,2)<1:\n",
    "            ftemp=0*fs\n",
    "            ftemp[temp[N-k]]=fs[temp[N-k]]\n",
    "            sin=2*np.real(fftpack.ifft(ftemp))\n",
    "            if k<2:\n",
    "                fig=hv.Curve(sin)\n",
    "            else:\n",
    "                fig=fig*hv.Curve(sin)\n",
    "    fapprox=np.real(fftpack.ifft(fsrec))\n",
    "    return fapprox,fsrec,fig"
   ]
  },
  {
   "cell_type": "code",
   "execution_count": null,
   "metadata": {},
   "outputs": [],
   "source": [
    "#fapprox,fsrec,fig=ApproxFourier2(Ext2,4)\n",
    "#fig.opts(width=1000)\n",
    "#pn.Column(hv.Curve(Ext2)*hv.Curve(fapprox).opts(width=1000)\\\n",
    "#          ,hv.Bars(np.abs(fftpack.fft(Ext2)[0:200]))*hv.Bars(np.abs(fsrec[0:200])).opts(width=1000,xaxis=None))"
   ]
  },
  {
   "cell_type": "code",
   "execution_count": null,
   "metadata": {},
   "outputs": [],
   "source": [
    "sonsRef= {\"Guitare\" : Ext2,\"Saxo\" : Ext}"
   ]
  },
  {
   "cell_type": "code",
   "execution_count": null,
   "metadata": {},
   "outputs": [],
   "source": [
    "class ApproxFourierDyn2(param.Parameterized):\n",
    "    son = param.ObjectSelector(default=\"Guitare\",objects=sonsRef.keys())\n",
    "    N = param.Integer(1,bounds=(1,25))\n",
    "    def view(self):\n",
    "        s=sonsRef[self.son]\n",
    "        options = dict(width=800,height=150,toolbar=None,xaxis=None,yaxis=None)\n",
    "        fapprox,fsrec,fig=ApproxFourier2(s,self.N)\n",
    "        strN=\"%2.0f\" % self.N\n",
    "        text=hv.Text(50,150,'Nombre de coefficients= '+strN+' sur 750').opts(**options).opts(fontsize=30)\n",
    "        return pn.Column(hv.Curve(s).opts(**options),\\\n",
    "                         hv.Curve(fapprox).opts(color='red').opts(**options),fig.opts(**options))"
   ]
  },
  {
   "cell_type": "code",
   "execution_count": null,
   "metadata": {},
   "outputs": [],
   "source": [
    "Ap2= ApproxFourierDyn2()\n",
    "pn.Column(Ap2.param,Ap2.view)"
   ]
  },
  {
   "cell_type": "code",
   "execution_count": null,
   "metadata": {},
   "outputs": [],
   "source": [
    "class ApproxFourierDyn(param.Parameterized):\n",
    "    son = param.ObjectSelector(default=\"Guitare\",objects=sonsRef.keys())\n",
    "    N = param.Integer(1,bounds=(1,25))\n",
    "    def view(self):\n",
    "        s=sonsRef[self.son]\n",
    "        options = dict(width=800,height=250,toolbar=None,xaxis=None,yaxis=None)\n",
    "        fapprox,fsrec=ApproxFourier(s,self.N)\n",
    "        strN=\"%2.0f\" % self.N\n",
    "        text=hv.Text(50,150,'Nombre de coefficients= '+strN+' sur 750').opts(**options).opts(fontsize=30)\n",
    "        return pn.Column(hv.Curve(s)*hv.Curve(fapprox).opts(**options),\\\n",
    "                         hv.Bars(np.abs(fftpack.fft(s)[0:100]))\\\n",
    "                         *hv.Bars(np.abs(fsrec[0:100])).opts(**options)*text)"
   ]
  },
  {
   "cell_type": "code",
   "execution_count": null,
   "metadata": {},
   "outputs": [],
   "source": [
    "Ap= ApproxFourierDyn()\n",
    "pn.Column(Ap.param,Ap.view)"
   ]
  },
  {
   "cell_type": "code",
   "execution_count": null,
   "metadata": {},
   "outputs": [],
   "source": []
  },
  {
   "cell_type": "code",
   "execution_count": null,
   "metadata": {},
   "outputs": [],
   "source": []
  },
  {
   "cell_type": "code",
   "execution_count": null,
   "metadata": {},
   "outputs": [],
   "source": []
  }
 ],
 "metadata": {
  "kernelspec": {
   "display_name": "Python 3",
   "language": "python",
   "name": "python3"
  },
  "language_info": {
   "codemirror_mode": {
    "name": "ipython",
    "version": 3
   },
   "file_extension": ".py",
   "mimetype": "text/x-python",
   "name": "python",
   "nbconvert_exporter": "python",
   "pygments_lexer": "ipython3",
   "version": "3.7.8"
  },
  "latex_envs": {
   "LaTeX_envs_menu_present": true,
   "autoclose": false,
   "autocomplete": true,
   "bibliofile": "biblio.bib",
   "cite_by": "apalike",
   "current_citInitial": 1,
   "eqLabelWithNumbers": true,
   "eqNumInitial": 1,
   "hotkeys": {
    "equation": "Ctrl-E",
    "itemize": "Ctrl-I"
   },
   "labels_anchors": false,
   "latex_user_defs": false,
   "report_style_numbering": false,
   "user_envs_cfg": false
  }
 },
 "nbformat": 4,
 "nbformat_minor": 2
}
