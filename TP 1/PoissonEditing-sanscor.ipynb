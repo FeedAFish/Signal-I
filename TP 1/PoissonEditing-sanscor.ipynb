{
 "cells": [
  {
   "cell_type": "markdown",
   "metadata": {},
   "source": [
    "# Poisson editing\n",
    "Adapted by Nicolas Papadakis (IMB) and Charles Dossal (INSA Toulouse) from works by William Emmanuel and Pierre Bénard (LaBRI)"
   ]
  },
  {
   "cell_type": "markdown",
   "metadata": {},
   "source": [
    "## Introduction\n",
    "The goal of this assignment is to apply the Poisson editing algorithm [1] for image blending.\n",
    "\n",
    "In the following, $T$ is a target image,  $S$ a source image,  and a binary mask representing an area $\\Omega$ of $S$ to copy in $T$. All images are defined on the same domain $D$ of sizee $M\\times N$.\n",
    "\n",
    "The idea of [1] is to copy the spatial gradients $\\nabla S$ of the source image inside $T$, and not the color values $S$. As illustrated below, this gives more realistic blendings.\n",
    "\n",
    "\n"
   ]
  },
  {
   "cell_type": "markdown",
   "metadata": {},
   "source": [
    "<table align=\"center\"><tr><td><img src=\"./img/target_Boat.png\" style=\"width: 200px;\"></td><td><img src=\"./img/source_Kraken.png\" style=\"width: 200px;\"></td><td><img src=\"./img/mask_Kraken.png\" style=\"width: 200px;\"></td><td><img src=\"./img/naive.png\" style=\"width: 200px;\"></td><td><img src=\"./img/poisson_blending.png\" style=\"width: 200px;\"></td></tr>\n",
    "<tr><td>Target $T$</td><td>Source $S$</td><td>Mask</td><td>Naive copy/paste of $S$</td><td>Poisson blending [1]: copy of $\\nabla S$</td></tr>\n",
    "</table>"
   ]
  },
  {
   "cell_type": "markdown",
   "metadata": {},
   "source": [
    "To realize such blending, we find an image $u$ solution of:\n",
    "\n",
    "$$\\min_u \\int_\\Omega ||\\nabla u-\\nabla S||^2,$$\n",
    "under the constraint $u_{D\\backslash \\Omega}=T$.\n",
    "\n",
    "This problem can be stated as follow\n",
    "\\begin{equation*}\n",
    "\\min_u \\int_\\Omega ||\\nabla u-\\nabla S||^2+\\iota_{K}(u)\n",
    "\\end{equation*}\n",
    "where $K$ is the set of images which coincide with the target out of the mask. \n",
    "We can observe that the set $K$ is a closed convex set... Why ?\n",
    "\n",
    "In this setting we can use the projected gradient which is a particular case of the Forward backward algorithm to solve this problem of fusion of images.\n",
    "\n",
    "We will study two examples but you can try others on your own.\n",
    "The data can be found at the following adress :\n",
    "\n",
    "http://dl.free.fr/rm.pl?h=bOSoNRP4l&i=93426714&s=mwWbk2t533WxFMxD47ERDuR9MlkDPwc8\n"
   ]
  },
  {
   "cell_type": "code",
   "execution_count": null,
   "metadata": {},
   "outputs": [],
   "source": [
    "import numpy as np\n",
    "import scipy as scp\n",
    "import pylab as pyl\n",
    "import pywt\n",
    "import pandas as pd\n",
    "import holoviews as hv\n",
    "import param\n",
    "import panel as pn\n",
    "import matplotlib.pyplot as plt\n",
    "import requests\n",
    "from panel.pane import LaTeX\n",
    "hv.extension('bokeh')\n",
    "import warnings\n",
    "warnings.filterwarnings('ignore')\n",
    "from PIL import Image\n",
    "from io import BytesIO\n"
   ]
  },
  {
   "cell_type": "code",
   "execution_count": null,
   "metadata": {},
   "outputs": [],
   "source": [
    "caselist=['Kraken', 'MonaLisa']"
   ]
  },
  {
   "cell_type": "markdown",
   "metadata": {},
   "source": [
    "Data are available online but you have downloaded them, you can work online changing the value of the variable \"local\" in the next cell."
   ]
  },
  {
   "cell_type": "code",
   "execution_count": null,
   "metadata": {},
   "outputs": [],
   "source": [
    "local=1\n",
    "def chargeData(name):\n",
    "    if local:\n",
    "        if name=='Kraken':\n",
    "            target=np.array(Image.open(\"./img/target_Boat.png\")).astype(float)\n",
    "            source=np.array(Image.open(\"./img/source_Kraken.png\")).astype(float)\n",
    "            mask2=np.array(Image.open(\"./img/mask_Kraken.png\")).astype(float)/255\n",
    "        if name=='MonaLisa':\n",
    "            target=np.array(Image.open(\"./img/Joconde.jpg\")).astype(float)\n",
    "            source=np.array(Image.open(\"./img/source_Heisenberg.jpeg\")).astype(float)\n",
    "            mask2=np.array(Image.open(\"./img/mask_joconde.jpeg\")).astype(float)/255\n",
    "    else:\n",
    "        if name=='Kraken':\n",
    "            url='https://plmlab.math.cnrs.fr/dossal/charlesdossalnesterov/raw/master/img/target_Boat.png?inline=false'\n",
    "            response = requests.get(url)\n",
    "            target=np.array(Image.open(BytesIO(response.content))).astype(float)\n",
    "            url='https://plmlab.math.cnrs.fr/dossal/charlesdossalnesterov/raw/master/img/source_Kraken.png?inline=false'\n",
    "            response = requests.get(url)\n",
    "            source=np.array(Image.open(BytesIO(response.content))).astype(float)\n",
    "            url='https://plmlab.math.cnrs.fr/dossal/charlesdossalnesterov/raw/master/img/mask_Kraken.png?inline=false'\n",
    "            response = requests.get(url)\n",
    "            mask2=np.array(Image.open(BytesIO(response.content))).astype(float)/255\n",
    "        if name=='MonaLisa':\n",
    "            url='https://plmlab.math.cnrs.fr/dossal/charlesdossalnesterov/raw/master/img/Joconde.jpg?inline=false'\n",
    "            response = requests.get(url)\n",
    "            target=np.array(Image.open(BytesIO(response.content))).astype(float)\n",
    "            url='https://plmlab.math.cnrs.fr/dossal/charlesdossalnesterov/raw/master/img/source_Heisenberg.jpeg?inline=false'\n",
    "            response = requests.get(url)\n",
    "            source=np.array(Image.open(BytesIO(response.content))).astype(float)\n",
    "            url='https://plmlab.math.cnrs.fr/dossal/charlesdossalnesterov/raw/master/img/mask_joconde.jpeg?inline=false'\n",
    "            response = requests.get(url)\n",
    "            mask2=np.array(Image.open(BytesIO(response.content))).astype(float)/255\n",
    "    return target,source,mask2"
   ]
  },
  {
   "cell_type": "markdown",
   "metadata": {},
   "source": [
    "Have a look to the two set of data."
   ]
  },
  {
   "cell_type": "code",
   "execution_count": null,
   "metadata": {},
   "outputs": [],
   "source": [
    "target,source,mask2=chargeData('Kraken')\n",
    "optionsRGB=dict(width=300,height=300,xaxis=None,yaxis=None,toolbar=None)\n",
    "optionsGray=dict(cmap='gray',width=300,height=300,xaxis=None,yaxis=None,toolbar=None)\n",
    "pn.Row(hv.RGB(target.astype('uint8')).opts(**optionsRGB),hv.RGB(source.astype('uint8')).opts(**optionsRGB),hv.Image((mask2*255).astype('uint8')).opts(**optionsGray))"
   ]
  },
  {
   "cell_type": "markdown",
   "metadata": {},
   "source": [
    "In the following we are giving some discrete gradient and associated divergence."
   ]
  },
  {
   "cell_type": "code",
   "execution_count": null,
   "metadata": {},
   "outputs": [],
   "source": [
    "def GradientHor(x):\n",
    "    y=x-np.roll(x,1,axis=1)\n",
    "    y[:,0]=0\n",
    "    return y\n",
    "def GradientVer(x):\n",
    "    y=x-np.roll(x,1,axis=0)\n",
    "    y[0,:]=0\n",
    "    return y\n",
    "def DivHor(x):\n",
    "    N=len(x[0])\n",
    "    y=x-np.roll(x,-1,axis=1)\n",
    "    y[:,0]=-x[:,1]\n",
    "    y[:,N-1]=x[:,N-1]\n",
    "    return y\n",
    "def DivVer(x):\n",
    "    N=len(x)\n",
    "    y=x-np.roll(x,-1,axis=0)\n",
    "    y[0,:]=-x[1,:]\n",
    "    y[N-1,:]=x[N-1,:]\n",
    "    return y\n",
    "def Gradient(x):\n",
    "    y=[]\n",
    "    y.append(GradientHor(x))\n",
    "    y.append(GradientVer(x))\n",
    "    return y\n",
    "def Div(y):\n",
    "    x=DivHor(y[0])+DivVer(y[1])\n",
    "    return x"
   ]
  },
  {
   "cell_type": "markdown",
   "metadata": {},
   "source": [
    "Define the two functions Projection and Gradient that will be necessary to compute the projected gradient. What is the Lipschitz constant of the gradient of $x\\mapsto \\Vert\\nabla x -y\\Vert_2^2$ ?"
   ]
  },
  {
   "cell_type": "code",
   "execution_count": null,
   "metadata": {},
   "outputs": [],
   "source": [
    "def Proj(im,ma,iref):\n",
    "\n",
    "    return res\n",
    "def GradientFonc(x,y):\n",
    "    \n",
    "    return res"
   ]
  },
  {
   "cell_type": "markdown",
   "metadata": {},
   "source": [
    "In the first step we divide the source and the target into the three chanels"
   ]
  },
  {
   "cell_type": "code",
   "execution_count": null,
   "metadata": {},
   "outputs": [],
   "source": [
    "target0=target[:,:,0]\n",
    "source0=source[:,:,0]\n",
    "target1=target[:,:,1]\n",
    "source1=source[:,:,1]\n",
    "target2=target[:,:,2]\n",
    "source2=source[:,:,2]"
   ]
  },
  {
   "cell_type": "markdown",
   "metadata": {},
   "source": [
    "Compute then a naive fusion with a simple projection."
   ]
  },
  {
   "cell_type": "code",
   "execution_count": null,
   "metadata": {},
   "outputs": [],
   "source": []
  },
  {
   "cell_type": "markdown",
   "metadata": {},
   "source": [
    "Write a function  FBPoissonEditing that compute the projected gradient on a grayscale image (single color chanel). Don't forget to clip the image at the end.\n",
    "The function must return the last iterate of the sequence and a curve of the values of iterates (that can be sampled for example with only at most 100 or 200 values) "
   ]
  },
  {
   "cell_type": "code",
   "execution_count": null,
   "metadata": {},
   "outputs": [],
   "source": []
  },
  {
   "cell_type": "code",
   "execution_count": null,
   "metadata": {},
   "outputs": [],
   "source": [
    "def FBPoissonEditing(targ,sour,ma,step,Niter):\n",
    "    \n",
    "    return np.clip(x,0,255),f[10:]"
   ]
  },
  {
   "cell_type": "markdown",
   "metadata": {},
   "source": [
    "Test the function with a step smaller than $1/4$ and 1000 iterations and compare the result with a naive approach. To get the result on a color image, the previous algorithm must be used on each color channel and the 3 output must be gather in a single color image."
   ]
  },
  {
   "cell_type": "code",
   "execution_count": null,
   "metadata": {},
   "outputs": [],
   "source": []
  },
  {
   "cell_type": "markdown",
   "metadata": {},
   "source": [
    "Using panel, create a dashboard to perform the fusion in real time. The output may be four figures with the source, the target, the fusion and the curve of the decay of the function to minimize. \n",
    "The step in the gradient descend used in the algorithm will be $self.step/8$. Hence when the variable step will be set to 1, the step in the gradient descent will be exactly equal to the Lipschitz constant of the gradient of $f$."
   ]
  },
  {
   "cell_type": "code",
   "execution_count": null,
   "metadata": {},
   "outputs": [],
   "source": [
    "class FBFusion(param.Parameterized):\n",
    "    case = param.ObjectSelector(default='Kraken',objects=caselist)\n",
    "    Niter = param.Integer(100,bounds=(10,3000))\n",
    "    step = param.Number(1,bounds=(0.1,4))\n",
    "    def view(self):\n",
    "        \n",
    "        return "
   ]
  },
  {
   "cell_type": "markdown",
   "metadata": {},
   "source": [
    "Try the function. "
   ]
  },
  {
   "cell_type": "code",
   "execution_count": null,
   "metadata": {},
   "outputs": [],
   "source": [
    "fbfusion= FBFusion()\n",
    "pn.Row(fbfusion.param,fbfusion.view)"
   ]
  },
  {
   "cell_type": "markdown",
   "metadata": {},
   "source": [
    "Perform a Fusion using FISTA with a parameter $\\alpha$ and create the associated dashboard. \n"
   ]
  },
  {
   "cell_type": "code",
   "execution_count": null,
   "metadata": {},
   "outputs": [],
   "source": [
    "def FISTAPoissonEditing(targ,sour,ma,step,alpha,Niter):\n",
    "    \n",
    "    return np.clip(x,0,255),f[10:]"
   ]
  },
  {
   "cell_type": "code",
   "execution_count": null,
   "metadata": {},
   "outputs": [],
   "source": []
  },
  {
   "cell_type": "code",
   "execution_count": null,
   "metadata": {},
   "outputs": [],
   "source": [
    "class FISTAFusion(param.Parameterized):\n",
    "    case = param.ObjectSelector(default='Kraken',objects=caselist)\n",
    "    Niter = param.Integer(100,bounds=(10,3000))\n",
    "    step = param.Number(1,bounds=(0.1,4))\n",
    "    alpha = param.Number(3,bounds=(2,15))\n",
    "    def view(self):\n",
    "        \n",
    "        return "
   ]
  },
  {
   "cell_type": "code",
   "execution_count": null,
   "metadata": {
    "scrolled": true
   },
   "outputs": [],
   "source": [
    "fistafusion=FISTAFusion()\n",
    "pn.Row(fistafusion.param,fistafusion.view)"
   ]
  },
  {
   "cell_type": "markdown",
   "metadata": {},
   "source": [
    "Compare in a third dashboard the difference between FB and FISTA.\n",
    "Are the limit on the step the same ?"
   ]
  },
  {
   "cell_type": "code",
   "execution_count": null,
   "metadata": {},
   "outputs": [],
   "source": [
    "class FBvsFISTAFusion(param.Parameterized):\n",
    "    case = param.ObjectSelector(default='Kraken',objects=caselist)\n",
    "    Niter = param.Integer(100,bounds=(10,3000))\n",
    "    step = param.Number(1,bounds=(0.1,4))\n",
    "    alpha = param.Number(3,bounds=(2,15))\n",
    "    def view(self):\n",
    "        \n",
    "        return "
   ]
  },
  {
   "cell_type": "code",
   "execution_count": null,
   "metadata": {},
   "outputs": [],
   "source": [
    "fbvsfista=FBvsFISTAFusion()\n",
    "pn.Row(fbvsfista.param,fbvsfista.view)"
   ]
  },
  {
   "cell_type": "code",
   "execution_count": null,
   "metadata": {},
   "outputs": [],
   "source": []
  }
 ],
 "metadata": {
  "kernelspec": {
   "display_name": "Python 3",
   "language": "python",
   "name": "python3"
  },
  "language_info": {
   "codemirror_mode": {
    "name": "ipython",
    "version": 3
   },
   "file_extension": ".py",
   "mimetype": "text/x-python",
   "name": "python",
   "nbconvert_exporter": "python",
   "pygments_lexer": "ipython3",
   "version": "3.7.3"
  },
  "latex_envs": {
   "LaTeX_envs_menu_present": true,
   "autoclose": false,
   "autocomplete": true,
   "bibliofile": "biblio.bib",
   "cite_by": "apalike",
   "current_citInitial": 1,
   "eqLabelWithNumbers": true,
   "eqNumInitial": 1,
   "hotkeys": {
    "equation": "Ctrl-E",
    "itemize": "Ctrl-I"
   },
   "labels_anchors": false,
   "latex_user_defs": false,
   "report_style_numbering": false,
   "user_envs_cfg": false
  }
 },
 "nbformat": 4,
 "nbformat_minor": 2
}
