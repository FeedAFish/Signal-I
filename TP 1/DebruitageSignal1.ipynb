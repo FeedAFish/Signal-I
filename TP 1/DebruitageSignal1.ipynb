{
 "cells": [
  {
   "cell_type": "markdown",
   "metadata": {},
   "source": [
    "# Débruitage dans une base orthonormée"
   ]
  },
  {
   "cell_type": "markdown",
   "metadata": {},
   "source": [
    "Le but de ce notebook est d'illustrer le fait qu'un seuillage des coefficients dans une base orthonormée permet de supprimer des parasites (du bruit) sur un signal ou une image. On parle de débruitage.\n",
    "Une telle méthode débruitage est d'autant plus efficace que la base concentre bien l'énergie du signal sur un faible nombre de coefficents. Dans les exemples suivants, vous pouvez modifier l'intensité du bruit et le niveau du seuil."
   ]
  },
  {
   "cell_type": "code",
   "execution_count": null,
   "metadata": {},
   "outputs": [],
   "source": [
    "from __future__ import division\n",
    "from IPython.display import Audio\n",
    "import numpy as np\n",
    "import scipy as scp\n",
    "import pylab as pyl\n",
    "from matplotlib import cm\n",
    "import matplotlib.pyplot as plt\n",
    "import pywt\n",
    "import scipy.io as sio\n",
    "from scipy import fftpack\n",
    "from matplotlib.pyplot import imshow as imageplot\n",
    "from mpl_toolkits.mplot3d import Axes3D\n",
    "\n",
    "import warnings\n",
    "warnings.filterwarnings('ignore')\n",
    "\n",
    "%matplotlib inline\n",
    "%load_ext autoreload\n",
    "%autoreload 2\n",
    "Saxo=sio.loadmat('Saxo.mat')\n",
    "Saxo1=Saxo['S']\n",
    "Saxo2=Saxo['S1']\n",
    "temp=np.zeros(913)\n",
    "for k in range(0,913):\n",
    "    temp[k]=Saxo2[k]\n",
    "Saxo2=temp\n",
    "N1=int(len(Saxo1)/3)\n",
    "temp=np.zeros(N1)\n",
    "for k in range(0,N1):\n",
    "    temp[k]=Saxo1[k]\n",
    "Saxo1=temp"
   ]
  },
  {
   "cell_type": "markdown",
   "metadata": {},
   "source": [
    "# Exemple sur données synthétiques, très parcimonieuses"
   ]
  },
  {
   "cell_type": "code",
   "execution_count": null,
   "metadata": {},
   "outputs": [],
   "source": [
    "N=1024\n",
    "t=np.arange(N)\n",
    "Fe1=12\n",
    "Fe2=20\n",
    "S=np.sin(2*np.pi*Fe1*t/N)+np.sin(2*np.pi*Fe2*t/N)\n",
    "plt.figure(figsize=(25,5))\n",
    "plt.axis([0, N, -4, 4])\n",
    "plt.plot(S)\n",
    "plt.title('Signal régulier')\n",
    "plt.show()\n",
    "bruit=np.random.randn(N)\n",
    "plt.figure(figsize=(25,5))\n",
    "plt.axis([0, N, -4, 4])\n",
    "SB=S+bruit\n",
    "plt.plot(SB,'k')\n",
    "plt.title('Signal bruité')\n",
    "plt.show()"
   ]
  },
  {
   "cell_type": "code",
   "execution_count": null,
   "metadata": {},
   "outputs": [],
   "source": [
    "FSB=fftpack.fft(SB)\n",
    "FS=fftpack.fft(S)\n",
    "temp2=abs(FSB)\n",
    "temp=abs(FS)\n",
    "fig = plt.figure(1, figsize=(20, 5))\n",
    "plt.plot(temp)\n",
    "plt.show()\n",
    "fig = plt.figure(1, figsize=(20, 5))\n",
    "plt.plot(temp2,'k')\n",
    "plt.show()\n"
   ]
  },
  {
   "cell_type": "code",
   "execution_count": null,
   "metadata": {},
   "outputs": [],
   "source": [
    "te=np.ones(N)\n",
    "T=150\n",
    "fig = plt.figure(1, figsize=(20, 5))\n",
    "plt.plot(temp2,'k')\n",
    "plt.plot(T*te,'r')\n",
    "plt.show()\n",
    "SD=np.real(fftpack.ifft(FSB*(abs(FSB)>T)))\n",
    "fig = plt.figure(1, figsize=(20, 5))\n",
    "plt.axis([0, N, -4, 4])\n",
    "plt.plot(S)\n",
    "plt.plot(SD,'r')\n",
    "plt.show()\n",
    "fig = plt.figure(1, figsize=(20, 5))\n",
    "plt.axis([0, N, -4, 4])\n",
    "plt.plot(SB,'k')\n",
    "plt.plot(SD,'r')\n",
    "plt.show()\n",
    "\n"
   ]
  },
  {
   "cell_type": "markdown",
   "metadata": {},
   "source": [
    "# Débruitage d'un extrait de son de saxophone"
   ]
  },
  {
   "cell_type": "code",
   "execution_count": null,
   "metadata": {},
   "outputs": [],
   "source": [
    "plt.figure(figsize=(25,5))\n",
    "plt.plot(Saxo2)\n",
    "plt.title('Extrait de Saxo')\n",
    "plt.show()\n",
    "Fe=44100\n",
    "Audio(Saxo1, rate = Fe)"
   ]
  },
  {
   "cell_type": "code",
   "execution_count": null,
   "metadata": {},
   "outputs": [],
   "source": [
    "Seuil=3.5\n",
    "N1=len(Saxo2)\n",
    "bruit2=np.random.randn(N1)\n",
    "Saxobruit=Saxo2+0.05*bruit2\n",
    "plt.figure(figsize=(25,5))\n",
    "plt.plot(Saxo2)\n",
    "plt.plot(Saxobruit,'k')\n",
    "plt.title('Extrait de Saxo bruité')\n",
    "plt.show()\n",
    "FsaxB=fftpack.fft(Saxobruit)\n",
    "plt.figure(figsize=(25,5))\n",
    "plt.plot(abs(FsaxB),'k')\n",
    "plt.title('Transformée de Fourier de Saxo bruité')\n",
    "plt.plot(Seuil*te,'r')\n",
    "plt.show()\n",
    "SaxoDebruit=np.real(fftpack.ifft(FsaxB*(abs(FsaxB)>Seuil)))\n",
    "plt.figure(figsize=(25,5))\n",
    "plt.plot(Saxo2)\n",
    "plt.plot(SaxoDebruit,'r')\n",
    "plt.title('Son de saxophone débruité')\n",
    "plt.show()"
   ]
  },
  {
   "cell_type": "markdown",
   "metadata": {},
   "source": [
    "# Débruitage d'un signal constant par morceaux"
   ]
  },
  {
   "cell_type": "code",
   "execution_count": null,
   "metadata": {},
   "outputs": [],
   "source": [
    "\n",
    "#SS= sio.loadmat('Piece2.mat')\n",
    "SS= sio.loadmat('Blocks.mat')\n",
    "S2=SS['S']\n",
    "S3=S2[0]\n",
    "plt.figure(figsize=(25,5))\n",
    "plt.plot(S3)\n",
    "plt.title('Signal régulier par morceaux')\n",
    "plt.show()\n",
    "Bruit=np.random.randn(1024)\n",
    "IntensiteBruit=0.2\n",
    "S3B=S3+IntensiteBruit*Bruit\n",
    "plt.figure(figsize=(25,5))\n",
    "plt.plot(S3B,'k')\n",
    "plt.title('Signal bruité')\n",
    "plt.show()"
   ]
  },
  {
   "cell_type": "markdown",
   "metadata": {},
   "source": [
    "## Dans la base de Fourier où le signal n'est pas très parcimonieux"
   ]
  },
  {
   "cell_type": "code",
   "execution_count": null,
   "metadata": {},
   "outputs": [],
   "source": [
    "Seuil=80\n",
    "FS3B=fftpack.fft(S3B)\n",
    "FS3=fftpack.fft(S3)\n",
    "plt.figure(figsize=(25,5))\n",
    "plt.plot(abs(FS3))\n",
    "plt.title('Module de la Transformée de Fourier du signal original')\n",
    "plt.show()\n",
    "plt.figure(figsize=(25,5))\n",
    "plt.plot(abs(FS3B),'k')\n",
    "plt.plot(Seuil*te,'r')\n",
    "plt.title('Module de la Transformée de Fourier du signal bruité')\n",
    "plt.show()\n",
    "S3D=np.real(fftpack.ifft(FS3B*(abs(FS3B)>Seuil)))\n",
    "plt.figure(figsize=(25,5))\n",
    "plt.plot(S3)\n",
    "plt.plot(S3D,'r')\n",
    "plt.title('Signal débruité')\n",
    "plt.show()"
   ]
  },
  {
   "cell_type": "markdown",
   "metadata": {},
   "source": [
    "## Dans une base d'ondelettes où le signal est très parcimonieux"
   ]
  },
  {
   "cell_type": "code",
   "execution_count": null,
   "metadata": {},
   "outputs": [],
   "source": [
    "xor= pywt.wavedec(S3, 'haar', mode='per', level=7)\n",
    "x1, slices= pywt.coeffs_to_array(xor)\n",
    "plt.figure(figsize=(25,10))\n",
    "plt.plot(x1)\n",
    "#plt.plot(Seuil*te,'r')\n",
    "#plt.plot(-Seuil*te,'r')\n",
    "plt.title('Coefficients dans une base d ondelettes du signal original')\n",
    "plt.show()"
   ]
  },
  {
   "cell_type": "code",
   "execution_count": null,
   "metadata": {},
   "outputs": [],
   "source": [
    "Seuil=1\n",
    "x= pywt.wavedec(S3B, 'haar', mode='per', level=7)\n",
    "x1, slices= pywt.coeffs_to_array(x)\n",
    "plt.figure(figsize=(25,10))\n",
    "plt.plot(x1)\n",
    "plt.plot(Seuil*te,'r')\n",
    "plt.plot(-Seuil*te,'r')\n",
    "plt.title('Coefficients dans une base d ondelettes du signal bruité')\n",
    "plt.show()\n",
    "xs=x1*(abs(x1)>Seuil)\n",
    "#print(np.shape(xs))\n",
    "xrec=pywt.array_to_coeffs(xs,slices, output_format='wavedec')\n",
    "#, output_format='wavedecn')\n",
    "Srec=pywt.waverec(xrec, 'haar',mode='per')\n",
    "plt.figure(figsize=(25,5))\n",
    "plt.plot(Srec,'r')\n",
    "plt.plot(S3)\n",
    "plt.show()\n",
    "plt.figure(figsize=(25,5))\n",
    "plt.plot(Srec,'r')\n",
    "plt.plot(S3B,'k')\n",
    "plt.show()"
   ]
  },
  {
   "cell_type": "markdown",
   "metadata": {},
   "source": [
    "# Un dernier exemple sur des images"
   ]
  },
  {
   "cell_type": "code",
   "execution_count": null,
   "metadata": {},
   "outputs": [],
   "source": [
    "File= sio.loadmat('ImagesRef.mat')\n",
    "I=File['I']\n",
    "plt.figure(figsize = (10,20))\n",
    "imageplot(I, \"gray\")\n",
    "plt.show()"
   ]
  },
  {
   "cell_type": "code",
   "execution_count": null,
   "metadata": {},
   "outputs": [],
   "source": [
    "#I=float(I)\n",
    "Seuil=100\n",
    "sigma=30\n",
    "(N1,N2)=np.shape(I)\n",
    "Bruit=np.random.randn(N1,N2)\n",
    "Ib=I+sigma*Bruit\n",
    "x= pywt.wavedec2(Ib, 'db2', mode='per', level=7)\n",
    "x1, slices= pywt.coeffs_to_array(x)\n",
    "x2=x1*(abs(x1)>Seuil)\n",
    "xrec=pywt.array_to_coeffs(x2,slices, output_format='wavedec2')\n",
    "Irec=pywt.waverec2(xrec, 'db2', mode='per')\n",
    "plt.figure(figsize = (10,20))\n",
    "imageplot(Ib, \"gray\")\n",
    "plt.figure(figsize = (10,20))\n",
    "imageplot(Irec, \"gray\")\n",
    "\n"
   ]
  },
  {
   "cell_type": "code",
   "execution_count": null,
   "metadata": {},
   "outputs": [],
   "source": []
  }
 ],
 "metadata": {
  "kernelspec": {
   "display_name": "Python 3",
   "language": "python",
   "name": "python3"
  },
  "language_info": {
   "codemirror_mode": {
    "name": "ipython",
    "version": 3
   },
   "file_extension": ".py",
   "mimetype": "text/x-python",
   "name": "python",
   "nbconvert_exporter": "python",
   "pygments_lexer": "ipython3",
   "version": "3.7.8"
  },
  "latex_envs": {
   "LaTeX_envs_menu_present": true,
   "autoclose": false,
   "autocomplete": true,
   "bibliofile": "biblio.bib",
   "cite_by": "apalike",
   "current_citInitial": 1,
   "eqLabelWithNumbers": true,
   "eqNumInitial": 1,
   "hotkeys": {
    "equation": "Ctrl-E",
    "itemize": "Ctrl-I"
   },
   "labels_anchors": false,
   "latex_user_defs": false,
   "report_style_numbering": false,
   "user_envs_cfg": false
  }
 },
 "nbformat": 4,
 "nbformat_minor": 2
}
