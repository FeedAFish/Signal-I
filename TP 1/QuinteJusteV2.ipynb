{
 "cells": [
  {
   "cell_type": "markdown",
   "metadata": {},
   "source": [
    "# La Quinte Juste.\n"
   ]
  },
  {
   "cell_type": "markdown",
   "metadata": {},
   "source": [
    "Ce Notebook propose une étude mathématique de La Quinte Juste, épisode de la série Kaamelott d'Alexandre Astier\n",
    "Cet extrait est visible par exemple via le lien suivant :\n",
    "https://www.symphozik.info/video-la-quinte-juste-269.html\n",
    "L'objet de ce notebook est plus précisément de visualiser dans le domaine de Fourier les liens qui existent entre les différentes notes. Nous verrons qu'une note est dite à la quinte d'une autre si sa fréquence fondamentale vaut les deux tiers de celle de la note de référence et qu'une note est à la quarte si sa fréquence fondamentale est au 3/4 de  celle de la note de référence. Ces observations peuvent se faire directement sur les coefficients de Fourier discrets des extraits sonores.\n",
    "Pour une vidéo explicative sur le lien plus précis entre mathématiques et notes de musique, pour comprendre que les quintes sur nos instruments modernes ne sont pas justes, justement pour éviter que certaines tierces sonnent trop faux et pourquoi au bas moyen âge où on ne favorisait que les quartes et les quintes, les tierces étaient particulièrement \n",
    "dissonnantes : cet épisode de la science étonnante : https://www.youtube.com/watch?v=cTYvCpLRwao"
   ]
  },
  {
   "cell_type": "code",
   "execution_count": null,
   "metadata": {},
   "outputs": [],
   "source": [
    "import holoviews as hv\n",
    "hv.extension('bokeh')\n",
    "import numpy as np\n",
    "import param\n",
    "import holoviews as hv,panel as pn,param\n",
    "from holoviews.streams import Pipe\n",
    "import time\n",
    "import pandas as pd\n",
    "import panel as pn\n",
    "from panel.pane import LaTeX\n",
    "from scipy.io.wavfile import read\n",
    "from scipy import fftpack\n",
    "from IPython.display import Audio\n",
    "import requests\n",
    "from io import BytesIO\n",
    "from PIL import Image\n",
    "import shutil\n",
    "from urllib.request import urlopen\n",
    "import io\n",
    "from scipy.io.wavfile import read\n",
    "import scipy.io as sio\n",
    "from holoviews import streams"
   ]
  },
  {
   "cell_type": "markdown",
   "metadata": {},
   "source": [
    "Nous extrayons d'abord de la bande sonore, les parties qui nous intéressent."
   ]
  },
  {
   "cell_type": "markdown",
   "metadata": {},
   "source": [
    "### Extraction des sons"
   ]
  },
  {
   "cell_type": "code",
   "execution_count": null,
   "metadata": {},
   "outputs": [],
   "source": [
    "test=\"parties_a_exploiter.wav\"\n",
    "quintejuste=read(test)\n",
    "print(np.shape(quintejuste[1][:,0]))\n",
    "audio_quinte=quintejuste[1][:,0]/2**14\n",
    "Fe=44100\n",
    "Audio(audio_quinte,rate=Fe)"
   ]
  },
  {
   "cell_type": "code",
   "execution_count": null,
   "metadata": {},
   "outputs": [],
   "source": [
    "basse=audio_quinte[142300:165400]\n",
    "Audio(basse,rate=Fe)"
   ]
  },
  {
   "cell_type": "code",
   "execution_count": null,
   "metadata": {},
   "outputs": [],
   "source": [
    "unisson=audio_quinte[404800:450200]\n",
    "Audio(unisson,rate=Fe)"
   ]
  },
  {
   "cell_type": "code",
   "execution_count": null,
   "metadata": {},
   "outputs": [],
   "source": [
    "quarte=audio_quinte[817900:940200]\n",
    "#unisson : quarte[:50000]\n",
    "#quarte : quarte[70000:]\n",
    "Audio(quarte,rate=Fe)"
   ]
  },
  {
   "cell_type": "code",
   "execution_count": null,
   "metadata": {},
   "outputs": [],
   "source": [
    "quinte=audio_quinte[1087500:1200000]\n",
    "#unisson : quinte[:60000]\n",
    "#quinte : quinte[80000:]\n",
    "Audio(quinte,rate=Fe)"
   ]
  },
  {
   "cell_type": "code",
   "execution_count": null,
   "metadata": {},
   "outputs": [],
   "source": [
    "tierce=audio_quinte[3425700:3500700]\n",
    "Audio(tierce,rate=Fe)"
   ]
  },
  {
   "cell_type": "code",
   "execution_count": null,
   "metadata": {},
   "outputs": [],
   "source": [
    "triton=audio_quinte[6869600:]\n",
    "Audio(triton,rate=Fe)"
   ]
  },
  {
   "cell_type": "markdown",
   "metadata": {},
   "source": [
    "### Affichage de chaque signal brut"
   ]
  },
  {
   "cell_type": "markdown",
   "metadata": {},
   "source": [
    "Nous affichons ensuite dans le domaine temporel les différents signaux. Vous pouvez zoomer pour mieux les voir. Ils sont localement stationnaires, c'est-à-dire que leur contenu fréquentiel varie peu dans le temps. "
   ]
  },
  {
   "cell_type": "code",
   "execution_count": null,
   "metadata": {},
   "outputs": [],
   "source": [
    "hv.Curve(unisson).opts(width=800,title='Unisson')"
   ]
  },
  {
   "cell_type": "code",
   "execution_count": null,
   "metadata": {},
   "outputs": [],
   "source": [
    "hv.Curve(quarte).opts(width=800,title='Quarte')"
   ]
  },
  {
   "cell_type": "code",
   "execution_count": null,
   "metadata": {},
   "outputs": [],
   "source": [
    "hv.Curve(quinte).opts(width=800,title='Quinte')"
   ]
  },
  {
   "cell_type": "code",
   "execution_count": null,
   "metadata": {},
   "outputs": [],
   "source": [
    "hv.Curve(tierce).opts(width=800,title='Tierce')"
   ]
  },
  {
   "cell_type": "code",
   "execution_count": null,
   "metadata": {},
   "outputs": [],
   "source": [
    "hv.Curve(triton).opts(width=800,title='Triton')"
   ]
  },
  {
   "cell_type": "markdown",
   "metadata": {},
   "source": [
    "### Analyse des spectrogrammes"
   ]
  },
  {
   "cell_type": "markdown",
   "metadata": {},
   "source": [
    "Attention, les vecteurs associés à la quarte et quinte contiennent une partie d'unisson"
   ]
  },
  {
   "cell_type": "code",
   "execution_count": null,
   "metadata": {},
   "outputs": [],
   "source": [
    "nmax=4096#294*10\n",
    "fft_unisson=abs(fftpack.fft(unisson[:nmax]))\n",
    "fft_quarte=abs(fftpack.fft(quarte[70000:][:nmax]))\n",
    "fft_quinte=abs(fftpack.fft(quinte[80000:][:nmax]))\n",
    "fft_tierce=abs(fftpack.fft(tierce[:nmax]))\n",
    "fft_triton=abs(fftpack.fft(triton[:nmax]))"
   ]
  },
  {
   "cell_type": "markdown",
   "metadata": {},
   "source": [
    "Pour afficher le spectrogramme associé à chaque son on peut utiliser la fonction suivante $AffichageSpectre$ qui renvoie directement une sortie graphique. Le paramètre $fmax$ permet d'afficher le spectrogramme seulement jusqu'à la fréquence $fmax$."
   ]
  },
  {
   "cell_type": "code",
   "execution_count": null,
   "metadata": {},
   "outputs": [],
   "source": [
    "def AffichageSpectre(t,fmax=44100):\n",
    "    temp=t[np.linspace(0,44100,len(t))<fmax]\n",
    "    n=np.linspace(0,fmax,len(temp))\n",
    "    \n",
    "    return hv.Spikes(np.c_[n,temp],'Fréquence(hz)',' ').opts(width=800,height=200)\n",
    "\n",
    "def aff_interactif(x,y):\n",
    "    return hv.VLine(x)*hv.Text(x+0.05, y, '%.3f'% x, halign='left', valign='bottom')"
   ]
  },
  {
   "cell_type": "markdown",
   "metadata": {},
   "source": [
    "On va maintenant afficher les modules des transformées de Fourier discrètes. Les fréquences ont ici été affichées en Herz... mais il faut garder en tête qu'on représente bien des modules de coefficients de TF discrète. Nous verrons que le lien entre l'indice $k$ et la fréquence en Hz est donné par la formule suivante :\n",
    "\\begin{equation}\n",
    "Freq_k=\\frac{Freq_{echan}*k}{N}\n",
    "\\end{equation}\n",
    "où $Freq_{echan}$ est la fréquence d'échantillonnage, $k$ l'indice du coefficient de Fourier et $N$ le nombre de points sur lequel est effectué la trasnformée. Ainsi si on échantillonne un signal à 44100 Hz et qu'on effectue une Tf discrète sur 1000 points, le coefficient de Fourier d'indice 20 correspond à une fréquence de 882Hz. "
   ]
  },
  {
   "cell_type": "code",
   "execution_count": null,
   "metadata": {
    "scrolled": true
   },
   "outputs": [],
   "source": [
    "plot_unisson=AffichageSpectre(fft_unisson,1000)\n",
    "pointer = streams.PointerXY(x=0, y=0, source=plot_unisson)\n",
    "plot_unisson*hv.DynamicMap(aff_interactif, streams=[pointer])"
   ]
  },
  {
   "cell_type": "markdown",
   "metadata": {},
   "source": [
    "les graphiques suivants permettent de comparer visuellement les différentes fréquences présentes dans les différents sons. "
   ]
  },
  {
   "cell_type": "code",
   "execution_count": null,
   "metadata": {},
   "outputs": [],
   "source": [
    "nmax=-1\n",
    "fft_unisson=abs(fftpack.fft(unisson[:nmax]))\n",
    "fft_quarte=abs(fftpack.fft(quarte[70000:][:nmax]))\n",
    "fft_quinte=abs(fftpack.fft(quinte[80000:][:nmax]))\n",
    "fft_tierce=abs(fftpack.fft(tierce[:nmax]))\n",
    "fft_triton=abs(fftpack.fft(triton[:nmax]))\n",
    "fmax=1000\n",
    "plot_unisson=AffichageSpectre(fft_unisson,fmax)\n",
    "plot_quarte=AffichageSpectre(fft_quarte,fmax)\n",
    "plot_quinte=AffichageSpectre(fft_quinte,fmax)\n",
    "plot_tierce=AffichageSpectre(fft_tierce,fmax)\n",
    "plot_triton=AffichageSpectre(fft_triton,fmax)\n",
    "# pointer_unisson=streams.PointerXY(x=0, y=0, source=plot_unisson)\n",
    "# pointer_quarte=streams.PointerXY(x=0, y=0, source=plot_quarte)\n",
    "# pointer_quinte=streams.PointerXY(x=0, y=0, source=plot_quinte)\n",
    "# pointer_tierce=streams.PointerXY(x=0, y=0, source=plot_tierce)\n",
    "# pointer_triton=streams.PointerXY(x=0, y=0, source=plot_triton)\n",
    "pn.Column(plot_unisson.opts(title='Unisson'),\\\n",
    "          plot_quarte.opts(title='Quarte'),\\\n",
    "          plot_quinte.opts(title='Quinte'),\\\n",
    "          plot_tierce.opts(title='Tierce'),\\\n",
    "          plot_triton.opts(title='Triton'))"
   ]
  },
  {
   "cell_type": "markdown",
   "metadata": {},
   "source": [
    "Dans les graphiques suivants, les fréquences les plus présentes ont été indiquées en couleur. Vous pouvez voir que la note fondamentale de la basse est à environ 150Hz et que les multiples de cette fréquences sont aussi présentes. on dit que ces multiples sont les harmoniques de la note fondamentale. La fréquence de la note fondamentale de la quarte vaut les 3/4 de celle de la note précédente... ce qui fait que certaines harmoniques sont communes, celles à 450 et à 900Hz. C'est cette conjnction des harmoniques qui rend le son agréable à l'oreille. Si vous passez la souris sur le graphique associé à la quarte, vous pourrez effcectuer une comparaison en temps réel avec le graphique de l'unisson.   "
   ]
  },
  {
   "cell_type": "code",
   "execution_count": null,
   "metadata": {},
   "outputs": [],
   "source": [
    "nmax=-1#16950\n",
    "fft_unisson=abs(fftpack.fft(unisson[:nmax]))\n",
    "fft_quarte=abs(fftpack.fft(quarte[70000:][:nmax]))\n",
    "plot_unisson=AffichageSpectre(fft_unisson,fmax)\n",
    "plot_quarte=AffichageSpectre(fft_quarte,fmax)\n",
    "plot_quarte2=AffichageSpectre(fft_quarte,fmax)\n",
    "pointer_unisson=streams.PointerXY(x=0, y=0, source=plot_unisson)\n",
    "pointer_quarte=streams.PointerXY(x=0, y=0, source=plot_quarte)\n",
    "pn.Column(plot_unisson.opts(title='Unisson')*hv.DynamicMap(aff_interactif, streams=[pointer_quarte]),\\\n",
    "          plot_quarte.opts(title='Quarte')*hv.DynamicMap(aff_interactif, streams=[pointer_quarte]),\\\n",
    "          plot_unisson.opts(title='Unisson')*hv.VLine(150).opts(color='red')*hv.VLine(300).opts(color='magenta')*hv.VLine(450).opts(color='magenta')*hv.VLine(600).opts(color='magenta')*hv.VLine(750).opts(color='magenta')*hv.VLine(900).opts(color='magenta'),\\\n",
    "          plot_quarte2.opts(title='Quarte')*hv.VLine(150).opts(color='red')*hv.VLine(300).opts(color='magenta')*hv.VLine(448).opts(color='magenta')*hv.VLine(600).opts(color='magenta')*hv.VLine(750).opts(color='magenta')*hv.VLine(898).opts(color='magenta')*hv.VLine(112.5).opts(color='blue')*hv.VLine(225).opts(color='cyan')*hv.VLine(337.5).opts(color='cyan')*hv.VLine(452).opts(color='cyan')*hv.VLine(562.5).opts(color='cyan')*hv.VLine(675).opts(color='cyan')*hv.VLine(787.5).opts(color='cyan')*hv.VLine(902).opts(color='cyan'))"
   ]
  },
  {
   "cell_type": "markdown",
   "metadata": {},
   "source": [
    "Le même phénomène se produit avec la quinte et cette fois ci un rapport 2/3 entre les fréquences. Cette fois ci la première harmonique commune est à 300Hz et il y a aussi 600Hz et 900Hz. Vous pourrez noter qu'il y a en fait un petit décaclage qui s'accentue... ce peut être dû au fait que ce n'est pas une quinte juste... mais une quinte dans une game tempérée, qui est la gamme actuelle où le rapport de fréquences entre une note et sa quinte n'est pas 3/2 mais ... $2^{7/12}\\approx 1.498$.\n"
   ]
  },
  {
   "cell_type": "code",
   "execution_count": null,
   "metadata": {},
   "outputs": [],
   "source": [
    "nmax=-1#16950\n",
    "fft_unisson=abs(fftpack.fft(unisson[:nmax]))\n",
    "fft_quinte=abs(fftpack.fft(quinte[80000:][:nmax]))\n",
    "plot_unisson=AffichageSpectre(fft_unisson,fmax)\n",
    "plot_quinte=AffichageSpectre(fft_quinte,fmax)\n",
    "plot_quinte2=AffichageSpectre(fft_quinte,fmax)\n",
    "pointer_unisson=streams.PointerXY(x=0, y=0, source=plot_unisson)\n",
    "pointer_quinte=streams.PointerXY(x=0, y=0, source=plot_quinte)\n",
    "pn.Column(plot_unisson.opts(title='Unisson')*hv.DynamicMap(aff_interactif, streams=[pointer_quinte]),\\\n",
    "          plot_quinte.opts(title='Quinte')*hv.DynamicMap(aff_interactif, streams=[pointer_quinte]),\\\n",
    "          plot_quinte2.opts(title='Quinte')*hv.VLine(150).opts(color='red')*hv.VLine(298).opts(color='magenta')*hv.VLine(450).opts(color='magenta')*hv.VLine(598).opts(color='magenta')*hv.VLine(750).opts(color='magenta')*hv.VLine(900).opts(color='magenta')*hv.VLine(100).opts(color='blue')*hv.VLine(200).opts(color='cyan')*hv.VLine(302).opts(color='cyan')*hv.VLine(400).opts(color='cyan')*hv.VLine(500).opts(color='cyan')*hv.VLine(602).opts(color='cyan')*hv.VLine(700).opts(color='cyan')*hv.VLine(800).opts(color='cyan'))"
   ]
  },
  {
   "cell_type": "code",
   "execution_count": null,
   "metadata": {},
   "outputs": [],
   "source": []
  }
 ],
 "metadata": {
  "kernelspec": {
   "display_name": "Python 3",
   "language": "python",
   "name": "python3"
  },
  "language_info": {
   "codemirror_mode": {
    "name": "ipython",
    "version": 3
   },
   "file_extension": ".py",
   "mimetype": "text/x-python",
   "name": "python",
   "nbconvert_exporter": "python",
   "pygments_lexer": "ipython3",
   "version": "3.7.8"
  },
  "latex_envs": {
   "LaTeX_envs_menu_present": true,
   "autoclose": false,
   "autocomplete": true,
   "bibliofile": "biblio.bib",
   "cite_by": "apalike",
   "current_citInitial": 1,
   "eqLabelWithNumbers": true,
   "eqNumInitial": 1,
   "hotkeys": {
    "equation": "Ctrl-E",
    "itemize": "Ctrl-I"
   },
   "labels_anchors": false,
   "latex_user_defs": false,
   "report_style_numbering": false,
   "user_envs_cfg": false
  }
 },
 "nbformat": 4,
 "nbformat_minor": 2
}
