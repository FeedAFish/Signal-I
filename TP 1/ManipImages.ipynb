{
 "cells": [
  {
   "cell_type": "markdown",
   "metadata": {},
   "source": [
    "# Manipulation des images"
   ]
  },
  {
   "cell_type": "code",
   "execution_count": null,
   "metadata": {},
   "outputs": [],
   "source": [
    "import numpy as np\n",
    "import scipy as scp\n",
    "import holoviews as hv\n",
    "import panel as pn\n",
    "hv.extension('bokeh')\n",
    "from PIL import Image\n",
    "from io import BytesIO\n",
    "import requests"
   ]
  },
  {
   "cell_type": "code",
   "execution_count": null,
   "metadata": {},
   "outputs": [],
   "source": [
    "local=0\n",
    "def chargeData(name):\n",
    "    if local:\n",
    "        if name=='Lenna':\n",
    "            res=np.array(Image.open(\"./Archive/img/Lenna.jpg\")).astype(float)\n",
    "        if name=='Canaletto':\n",
    "            res=np.array(Image.open(\"./Archive/img/Canaletto.jpeg\")).astype(float)\n",
    "        if name=='Minotaure':\n",
    "            res=np.array(Image.open(\"./Archive/img/MinotaureBruite.jpeg\")).astype(float)   \n",
    "        if name=='Cartoon':\n",
    "            res=np.array(Image.open(\"./Archive/img/Cartoon.jpg\")).astype(float) \n",
    "    else:\n",
    "        if name=='Lenna':\n",
    "            url='https://plmlab.math.cnrs.fr/dossal/optimisationpourlimage/raw/master/img/Lenna.jpg'        \n",
    "            response = requests.get(url)\n",
    "            res=np.array(Image.open(BytesIO(response.content))).astype(float)\n",
    "        if name=='Canaletto':\n",
    "            url='https://plmlab.math.cnrs.fr/dossal/optimisationpourlimage/raw/master/img/Canaletto.jpeg'\n",
    "            response = requests.get(url)\n",
    "            res=np.array(Image.open(BytesIO(response.content))).astype(float)\n",
    "        if name=='Minotaure':\n",
    "            url='https://plmlab.math.cnrs.fr/dossal/optimisationpourlimage/raw/master/img/MinotaureBruite.jpeg'\n",
    "            response = requests.get(url)\n",
    "            res=np.array(Image.open(BytesIO(response.content))).astype(float)\n",
    "        if name=='Cartoon':\n",
    "            url='https://plmlab.math.cnrs.fr/dossal/optimisationpourlimage/raw/master/img/Cartoon.jpg'        \n",
    "            response = requests.get(url)\n",
    "            res=np.array(Image.open(BytesIO(response.content))).astype(float)\n",
    "    return res"
   ]
  },
  {
   "cell_type": "markdown",
   "metadata": {},
   "source": [
    "## Images Couleur "
   ]
  },
  {
   "cell_type": "markdown",
   "metadata": {},
   "source": [
    "Numpy permet de charger simplement des images couleur. Holoview permet de les afficher."
   ]
  },
  {
   "cell_type": "code",
   "execution_count": null,
   "metadata": {},
   "outputs": [],
   "source": [
    "Mi=chargeData('Minotaure').astype('uint8')\n",
    "options1=dict(width=400,height=400,xaxis=None,yaxis=None,toolbar=None)\n",
    "hv.RGB(Mi).opts(**options1)"
   ]
  },
  {
   "cell_type": "code",
   "execution_count": null,
   "metadata": {},
   "outputs": [],
   "source": [
    "im=chargeData('Cartoon').astype('uint8')\n",
    "hv.RGB(im).opts(**options1)"
   ]
  },
  {
   "cell_type": "markdown",
   "metadata": {},
   "source": [
    "La variable Im est un tableau à 3 dimensions."
   ]
  },
  {
   "cell_type": "code",
   "execution_count": null,
   "metadata": {},
   "outputs": [],
   "source": [
    "n1,n2,n3=np.shape(im)\n",
    "print(n1,n2,n3)"
   ]
  },
  {
   "cell_type": "markdown",
   "metadata": {},
   "source": [
    "On peut afficher les différents canaux de couleurs avec la commande hv.Raster faite pour les images monochromes."
   ]
  },
  {
   "cell_type": "code",
   "execution_count": null,
   "metadata": {},
   "outputs": [],
   "source": [
    "im1=im[:,:,0]\n",
    "im2=im[:,:,1]\n",
    "im3=im[:,:,2]\n",
    "hv.Raster(im1).opts(cmap='kr',width=300,height=300,xaxis=None,yaxis=None)+\\\n",
    "hv.Raster(im2).opts(cmap='kg',width=300,height=300,xaxis=None,yaxis=None)+\\\n",
    "hv.Raster(im3).opts(cmap='kb',width=300,height=300,xaxis=None,yaxis=None)"
   ]
  },
  {
   "cell_type": "markdown",
   "metadata": {},
   "source": [
    "On peut aussi afficher une image avec la commande hv.Image, la différence entre les deux commandes est essentiellement le choix de l'échelle des variables et du sens des axes."
   ]
  },
  {
   "cell_type": "code",
   "execution_count": null,
   "metadata": {},
   "outputs": [],
   "source": [
    "pn.Row(hv.Image(im1).opts(width=400,height=400,cmap='gray',toolbar=None)\\\n",
    "       ,hv.Raster(im1).opts(width=400,height=400,cmap='gray',toolbar=None))"
   ]
  },
  {
   "cell_type": "markdown",
   "metadata": {},
   "source": [
    "## Ajouter du bruit à une image"
   ]
  },
  {
   "cell_type": "markdown",
   "metadata": {},
   "source": [
    "On peut ajouter un bruit gaussien à une image couleur :"
   ]
  },
  {
   "cell_type": "code",
   "execution_count": null,
   "metadata": {},
   "outputs": [],
   "source": [
    "n1,n2,n3=np.shape(im)\n",
    "bruitcouleur=np.random.randn(n1,n2,3)\n",
    "sigma=50\n",
    "imb=im+sigma*bruitcouleur"
   ]
  },
  {
   "cell_type": "markdown",
   "metadata": {},
   "source": [
    "Avant d'afficher le résultat, il faut avoir conscience qu'une image est normalement un tableau de valeurs entières comprises entre 0 et 255. Quand on modifie le tableau, par exemple en lui ajoutant un bruit, les valeurs peuvent ne pas être entières et ne plus être entre 0 et 255 "
   ]
  },
  {
   "cell_type": "code",
   "execution_count": null,
   "metadata": {},
   "outputs": [],
   "source": [
    "print(np.min(imb),np.max(imb))"
   ]
  },
  {
   "cell_type": "markdown",
   "metadata": {},
   "source": [
    "Les commandes hv.Raster et hv.Image permettent quand même un affichage :"
   ]
  },
  {
   "cell_type": "code",
   "execution_count": null,
   "metadata": {},
   "outputs": [],
   "source": [
    "pn.Row(hv.Image(imb[:,:,0]).opts(width=400,height=400,cmap='gray',toolbar=None)\\\n",
    "       ,hv.Raster(imb[:,:,0]).opts(width=400,height=400,cmap='gray',toolbar=None))"
   ]
  },
  {
   "cell_type": "markdown",
   "metadata": {},
   "source": [
    "En revanche, la commande hv.RGB ne fonctionne pas tout à fait comme on le voudrait."
   ]
  },
  {
   "cell_type": "code",
   "execution_count": null,
   "metadata": {},
   "outputs": [],
   "source": [
    "hv.RGB(imb)"
   ]
  },
  {
   "cell_type": "markdown",
   "metadata": {},
   "source": [
    "Le problème d'un tel affichage est que par défaut, holoview associe à blanc la plus forte valeur et à noir la plus faible valeur. Or ces valeurs peuvent varier, d'une réalisation du bruit à l'autre ou être différente de celles de l'image originale. Cette différence peut créer une différence de contraste artificielle d'une image à l'autre :  "
   ]
  },
  {
   "cell_type": "code",
   "execution_count": null,
   "metadata": {},
   "outputs": [],
   "source": [
    "pn.Row(hv.Image(imb[:,:,0]).opts(width=400,height=400,cmap='gray',toolbar=None),\\\n",
    "hv.Image(im[:,:,0]).opts(width=400,height=400,cmap='gray',toolbar=None))"
   ]
  },
  {
   "cell_type": "markdown",
   "metadata": {},
   "source": [
    "On peut limiter ces effets en clipant l'image entre 0 et 255 :"
   ]
  },
  {
   "cell_type": "code",
   "execution_count": null,
   "metadata": {},
   "outputs": [],
   "source": [
    "imb=np.clip(imb,0,255)\n",
    "pn.Row(hv.Image(imb[:,:,0]).opts(width=400,height=400,cmap='gray',toolbar=None),\\\n",
    "hv.Image(im[:,:,0]).opts(width=400,height=400,cmap='gray',toolbar=None))"
   ]
  },
  {
   "cell_type": "markdown",
   "metadata": {},
   "source": [
    "Vous pouyez vérifier que ce cliping ne suffit pas à assurer un bon affichage en couleur via la fonction hv.RBG. Il faut en plus convertir les valeurs du tableau en entiers. \n",
    "\n",
    "Une manière de le faire est d'utiliser la commande astype."
   ]
  },
  {
   "cell_type": "code",
   "execution_count": null,
   "metadata": {},
   "outputs": [],
   "source": [
    "imb=imb.astype('uint8')\n",
    "hv.RGB(imb).opts(**options1)\n",
    "im_cartoon_bruitee = Image.fromarray(imb)\n",
    "im_cartoon_bruitee.save('MinotaureBruite.jpeg')"
   ]
  },
  {
   "cell_type": "markdown",
   "metadata": {},
   "source": [
    "## Sauver un tableau sous forme d'un fichier image"
   ]
  },
  {
   "cell_type": "markdown",
   "metadata": {},
   "source": [
    "Pour sauver un tableau sous forme d'image, il faut d'abord s'assurer que le tableau ne comprend que des entiers de 0 à 255 et que le type des éléments du tableau est correct. On peut utiliser pour cela les fonctions np.clip et astype vues plus haut. Ensuite on procède comme suit : "
   ]
  },
  {
   "cell_type": "code",
   "execution_count": null,
   "metadata": {},
   "outputs": [],
   "source": [
    "im_cartoon_bruitee = Image.fromarray(imb)\n",
    "im_cartoon_bruitee.save('Cartoon_bruitee.jpeg')"
   ]
  },
  {
   "cell_type": "markdown",
   "metadata": {},
   "source": [
    "## Image couleur vers Image monochrome de luminance"
   ]
  },
  {
   "cell_type": "markdown",
   "metadata": {},
   "source": [
    "La luminance d'une image se calcule par combinaison linéaire des trois canaux de couleur. Les coefficients de la combinaison linéaire sont standardisés."
   ]
  },
  {
   "cell_type": "code",
   "execution_count": null,
   "metadata": {},
   "outputs": [],
   "source": [
    "n1,n2,n3=np.shape(im)\n",
    "iml=0.2126*im[:,:,0]+0.7152*im[:,:,1]+0.0722*im[:,:,2]\n",
    "iml=np.reshape(iml,(n1,n2))\n",
    "print(np.shape(iml))"
   ]
  },
  {
   "cell_type": "code",
   "execution_count": null,
   "metadata": {},
   "outputs": [],
   "source": [
    "hv.Image(iml).opts(cmap='gray',width=400,height=400,xaxis=None,yaxis=None,toolbar=None)"
   ]
  },
  {
   "cell_type": "markdown",
   "metadata": {},
   "source": [
    "## Zoom interactif"
   ]
  },
  {
   "cell_type": "markdown",
   "metadata": {},
   "source": [
    "On va maintenant voir comment on affiche un zoom interactif sur plusieurs images simultanément.\n",
    "\n",
    "Nous allons ici travailler par simplicité sur une image monochrome, l'image de luminance créée plus haut. \n",
    "\n",
    "La commande suivante permet de créer une image source, mais elle n'affiche rien."
   ]
  },
  {
   "cell_type": "code",
   "execution_count": null,
   "metadata": {},
   "outputs": [],
   "source": [
    "source = hv.Raster(iml).opts(cmap='gray',xaxis=None,yaxis=None)"
   ]
  },
  {
   "cell_type": "markdown",
   "metadata": {},
   "source": [
    "Si on veut afficher la source il suffit de taper :"
   ]
  },
  {
   "cell_type": "code",
   "execution_count": null,
   "metadata": {},
   "outputs": [],
   "source": [
    "source"
   ]
  },
  {
   "cell_type": "markdown",
   "metadata": {},
   "source": [
    "Les lignes suivantes permettent de créer une sous image centrée d'une image im au point (x,y) de taille définie par la variable Taille, ici 60. La fonction renvoie une image "
   ]
  },
  {
   "cell_type": "code",
   "execution_count": null,
   "metadata": {},
   "outputs": [],
   "source": [
    "def crop(x,y,im):\n",
    "    Taille=50\n",
    "    xx=int(x)\n",
    "    yy=int(y)\n",
    "    y0,y1,x0,x1 = max(yy-Taille,0),min(yy+Taille,im.shape[0]),max(xx-Taille,0),min(xx+Taille,im.shape[1])\n",
    "    imcrop = im[y0:y1,x0:x1]\n",
    "    options = dict(cmap='gray',xaxis=None,yaxis=None)\n",
    "    return hv.Raster(imcrop,kdims=['x_zoom','y_zoom']).opts(**options)"
   ]
  },
  {
   "cell_type": "code",
   "execution_count": null,
   "metadata": {},
   "outputs": [],
   "source": [
    "crop(230,350,iml)"
   ]
  },
  {
   "cell_type": "markdown",
   "metadata": {},
   "source": [
    "La commande suivante construit un pointeur qui renvoie de manière interactive, l'abscisse et l'ordonnée du curseur quand il est sur l'image source. Les valeurs par défaut sont fixée ici à x=20 à y=20."
   ]
  },
  {
   "cell_type": "code",
   "execution_count": null,
   "metadata": {},
   "outputs": [],
   "source": [
    "pointer = hv.streams.PointerXY(source=source,x=20,y=20)"
   ]
  },
  {
   "cell_type": "markdown",
   "metadata": {},
   "source": [
    "La ligne suivante permet de créer un zoom interactif, construit sur le pointeur "
   ]
  },
  {
   "cell_type": "code",
   "execution_count": null,
   "metadata": {},
   "outputs": [],
   "source": [
    "viewcrop=hv.DynamicMap(lambda x,y: crop(x,y,iml), streams=[pointer])"
   ]
  },
  {
   "cell_type": "markdown",
   "metadata": {},
   "source": [
    "On peut ensuite afficher l'image source et le zoom intéractif l'un à côté de l'autre."
   ]
  },
  {
   "cell_type": "code",
   "execution_count": null,
   "metadata": {},
   "outputs": [],
   "source": [
    "(source+viewcrop).opts(toolbar=None)"
   ]
  },
  {
   "cell_type": "markdown",
   "metadata": {},
   "source": [
    "On peut afficher des zooms de plusiurs images en utilisant le même pointeur. On crée une image bruitée..."
   ]
  },
  {
   "cell_type": "code",
   "execution_count": null,
   "metadata": {},
   "outputs": [],
   "source": [
    "imlb=iml+20*np.random.randn(n1,n2)\n",
    "options2 = dict(cmap='gray',xaxis=None,yaxis=None)\n",
    "hv.Raster(imlb).opts(**options2)"
   ]
  },
  {
   "cell_type": "markdown",
   "metadata": {},
   "source": [
    "... et on crée le zoom interactif. On peut ainsi créer et mettre en regard autant de zooms que l'on veut, tous définis par le même pointeur."
   ]
  },
  {
   "cell_type": "code",
   "execution_count": null,
   "metadata": {},
   "outputs": [],
   "source": [
    "viewcrop2=hv.DynamicMap(lambda x,y: crop(x,y,imlb), streams=[pointer])\n",
    "(source+viewcrop+viewcrop2).opts(toolbar=None)"
   ]
  },
  {
   "cell_type": "code",
   "execution_count": null,
   "metadata": {},
   "outputs": [],
   "source": []
  },
  {
   "cell_type": "code",
   "execution_count": null,
   "metadata": {},
   "outputs": [],
   "source": []
  }
 ],
 "metadata": {
  "kernelspec": {
   "display_name": "Python 3",
   "language": "python",
   "name": "python3"
  },
  "language_info": {
   "codemirror_mode": {
    "name": "ipython",
    "version": 3
   },
   "file_extension": ".py",
   "mimetype": "text/x-python",
   "name": "python",
   "nbconvert_exporter": "python",
   "pygments_lexer": "ipython3",
   "version": "3.7.3"
  },
  "latex_envs": {
   "LaTeX_envs_menu_present": true,
   "autoclose": false,
   "autocomplete": true,
   "bibliofile": "biblio.bib",
   "cite_by": "apalike",
   "current_citInitial": 1,
   "eqLabelWithNumbers": true,
   "eqNumInitial": 1,
   "hotkeys": {
    "equation": "Ctrl-E",
    "itemize": "Ctrl-I"
   },
   "labels_anchors": false,
   "latex_user_defs": false,
   "report_style_numbering": false,
   "user_envs_cfg": false
  }
 },
 "nbformat": 4,
 "nbformat_minor": 2
}
