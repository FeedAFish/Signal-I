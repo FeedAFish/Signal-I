{
 "cells": [
  {
   "cell_type": "markdown",
   "metadata": {},
   "source": [
    "# Transformée de Fourier discrète"
   ]
  },
  {
   "cell_type": "markdown",
   "metadata": {},
   "source": [
    "Dans ce notebook, nous allons utiliser la transformée de Fourier discrète. \n",
    "Cette transformée est une application qui envoie un vecteur de $\\mathbb{C}^N$ sur un vecteur de $\\mathbb{C}^N$, où $\\mathbb{C}^N$ est muni du produit scalaire suivant \n",
    "$$\\langle f,g\\rangle=\\sum_{k=0}^{N-1}f[k]\\overline{g[k]}.$$\n",
    "Cette application linéaire est définie par la formule suivante : pour tout $k\\in\\{ 0: N-1\\}$\n",
    "$$\\hat{f}[k]=\\sum_{n=0}^{N-1}f[n]e^{-\\frac{2i\\pi kn}{N}}$$\n",
    "Elle peut être vu comme un changement de base orthogonale. En effet si on lit les valeurs $f[k]$ aux composantes du vecteur $f$ dans la base canonique alors les valeurs $\\hat f[k]$ peuvent être vues comme les produits scalaires de $f$ avec le vecteur $e_k$ défini par \n",
    "$$e_k[n]=e^{\\frac{2i\\pi kn}{N}}.$$\n",
    "Ce vecteur est appelé exponentielle complexe discrète. La famille des exponentielles discrètes pour $k\\in\\{ 0: N-1\\}$ forme une base orthogonale de $\\mathbb{C}^N$. Ce n'est pas une base orthonormée car les vecteurs sont tous de norme $N$, ainsi la famille $(\\frac{1}{\\sqrt{N}}e_k)_{k\\in\\{ 0: N-1\\}}$ forme une base orthonormée. On en déduit la formule de reconstruction suivante :\n",
    "$$f[n]=\\frac{1}{N}\\sum_{k=0}^{N-1}\\hat f[k]e^{\\frac{2i\\pi kn}{N}}$$.\n",
    "On dit que $\\hat f$ permet de représenter $f$ dans le domaine des fréquences.\n",
    "On appellera parfois le coefficient $/hat f[k]$ la $k$ième fréquence de $f$.\\\\\n",
    "Comme pour les faibles valeurs de $k$, les composantes des vecteurs $e_k$ osccillent peu, on parle de basses fréquences. Pour les grandes valeurs de $k$ on dit que $\\hat f[k]$ est un coefficient de haute fréquence.\\\\\n",
    "Une chose importante à avoie en tête est que la transformée de Fourier d'un vecteur doit être vue comme un objet périodique, c'est à dire une suite infinie dont on affiche une période. Une des conséquences de ceci est que les hautes fréquences se situent au milieu. Les plus grandes valeurs de $k$, comme $N-2$ ou $N-1$ peuvent être vues comme des basses fréquences négatives car $N-1\\equiv -1\\,[N]$. On peut le vérifier simplement en affichant $e_1$ et \n",
    "$e_{N-1}$."
   ]
  },
  {
   "cell_type": "markdown",
   "metadata": {},
   "source": [
    "La commande qui permet de calculer la transformée de Fourier discrète est fftpack.fft et celle de la transformée inverse est fftpack.ifft. Les fonctions python associées sont isssues su package scipy. Nous utiliserons quelques vecteurs de références qu'il faudra télécharger sur moodle dans des fichiers .mat\n",
    "Le terme fft désigne un algorithme calculant la transformée de Fourier discrète : il s'agit de la Fast Fourier Transform qui est vraiment rapide quand $N$ est une puissance de 2. C'est pourquoi la plupart des vecteurs que nous utiliserons auront des tailles qui sont des puissances de 2. "
   ]
  },
  {
   "cell_type": "markdown",
   "metadata": {},
   "source": [
    "La Transformée discrète est une transformée de $\\mathbb{C}^N$ dans $\\mathbb{C}^N$ mais on peut aussi la voir \n",
    "comme une discrétisation du calcul des coefficients d une fonction périodique. En effet si $f$ est une fonction \n",
    "continue par morceaux \n",
    "définie sur $\\mathbb{R}$ et $2\\pi$-périodique on a \n",
    "$$c_n(f)=\\frac{1}{2\\pi}\\int f(t)e^{-int}dt\\approx \\frac{1}{N}\\sum_{k=0}^{N-1} f(\\frac{2\\pi k}{N})e^{-\\frac{2i\\pi kn}{N}}$$\n",
    "Où l'approximation est celle d'une intégrale sur $[0,2/pi]$ par une somme de Riemann sur $N$ points.\\\\\n",
    "Ainsi pour de grandes valeurs de $N$ on peut déduire le comportement des composantes $\\hat f[k]$ du vecteur $\\hat f$ en les considérant comme des versions approchées des coefficients de Fourier d'une fonction $\\tilde f$, $2\\pi$ périodique telle que $f[k]\\approx \\tilde f(\\frac{2\\pi k}{N})$.\\\\\n",
    "Ainsi la décroissance des coefficients de Fourier d'une fonction continue $2\\pi-$périodique est liée à la régularité\n",
    "de celle ci. Nous verrons qu'on peut observer une telle décroissance sur la TF discrète.\\\\\n"
   ]
  },
  {
   "cell_type": "markdown",
   "metadata": {},
   "source": [
    "# Visualisation de la fft de différents signaux."
   ]
  },
  {
   "cell_type": "code",
   "execution_count": null,
   "metadata": {},
   "outputs": [],
   "source": [
    "import holoviews as hv\n",
    "hv.extension('bokeh')\n",
    "import numpy as np\n",
    "import param\n",
    "import holoviews as hv,panel as pn,param\n",
    "from holoviews.streams import Pipe\n",
    "import time\n",
    "import pandas as pd\n",
    "import panel as pn\n",
    "from panel.pane import LaTeX\n",
    "from scipy.io.wavfile import read\n",
    "from scipy import fftpack\n",
    "from IPython.display import Audio\n",
    "import requests\n",
    "from io import BytesIO\n",
    "from PIL import Image\n",
    "import shutil\n",
    "from urllib.request import urlopen\n",
    "import io\n",
    "from scipy.io.wavfile import read\n",
    "import scipy.io as sio"
   ]
  },
  {
   "cell_type": "code",
   "execution_count": null,
   "metadata": {},
   "outputs": [],
   "source": [
    "S4=res=np.load('Blocks.npy')\n",
    "S3=res=np.load('Piece.npy')\n",
    "Fe=44100\n",
    "SonGuitare=\"Guitare.wav\"\n",
    "gui=read(SonGuitare)\n",
    "guit=gui[1]/2**14\n",
    "Audio(guit, rate=Fe)\n"
   ]
  },
  {
   "cell_type": "code",
   "execution_count": null,
   "metadata": {},
   "outputs": [],
   "source": [
    "Saxo=sio.loadmat('Saxo.mat')\n",
    "Saxo1=Saxo['S']\n",
    "Saxo2=Saxo['S1']\n",
    "temp=np.zeros(913)\n",
    "for k in range(0,913):\n",
    "    temp[k]=Saxo2[k]\n",
    "Saxo2=temp\n",
    "N1=int(len(Saxo1)/3)\n",
    "temp=np.zeros(N1)\n",
    "for k in range(0,N1):\n",
    "    temp[k]=Saxo1[k]\n",
    "sax=temp\n",
    "Audio(sax, rate=Fe)"
   ]
  },
  {
   "cell_type": "code",
   "execution_count": null,
   "metadata": {},
   "outputs": [],
   "source": [
    "d2=64000+29\n",
    "Ext=sax[d2:d2+1462]\n",
    "d2=64000\n",
    "Ext2=guit[d2:d2+1500]\n",
    "sonsRef= {\"Guitare\" : Ext2,\"Saxo\" : Ext}\n",
    "signauxRef= {\"Piece\" : S3,\"Blocks\" : S4}\n",
    "pn.Column(hv.Curve(Ext).opts(width=900),hv.Curve(Ext2).opts(width=900))\n"
   ]
  },
  {
   "cell_type": "markdown",
   "metadata": {},
   "source": [
    "Question 1: Calculer et afficher sur deux graphiques différents les vecteurs et le module de la DFT pour les signaux de référence. "
   ]
  },
  {
   "cell_type": "code",
   "execution_count": null,
   "metadata": {},
   "outputs": [],
   "source": [
    "S=sonsRef['Guitare']\n",
    "hv.Curve(S)\n",
    "FS=fftpack.fft(S)\n",
    "temp=abs(FS)\n",
    "pn.Column(hv.Curve(S).opts(width=800),hv.Curve(temp).opts(width=800))"
   ]
  },
  {
   "cell_type": "markdown",
   "metadata": {},
   "source": [
    "Question 2 : Ecrire des fonctions qui génèrent des gaussiennes, des fonctions indicatrices d'intervalle, une fonction rampe et un peigne de Dirac."
   ]
  },
  {
   "cell_type": "code",
   "execution_count": null,
   "metadata": {},
   "outputs": [],
   "source": [
    "def Gaussienne(N,sigma2,b):\n",
    "    x = np.linspace(-b, b, N)\n",
    "    y=np.exp(-np.abs(x)*np.abs(x)/sigma2)\n",
    "    return y\n",
    "def Porte(N,d,f):\n",
    "    y=np.zeros(N)\n",
    "    for k in range(d,f):\n",
    "        y[k]=1\n",
    "    return y\n",
    "def Peigne(N,d):\n",
    "    y=np.zeros(N)\n",
    "    nb=int(np.floor(N/d))\n",
    "    for k in range(1,nb):\n",
    "        y[k*d]=1\n",
    "    return y    "
   ]
  },
  {
   "cell_type": "code",
   "execution_count": null,
   "metadata": {},
   "outputs": [],
   "source": [
    "g=Gaussienne(1000,1,10)\n",
    "po=Porte(1000,300,600)\n",
    "pe=Peigne(1000,50)\n",
    "pn.Column(hv.Curve(g).opts(width=800,title='Gaussienne'),hv.Curve(po).opts(width=800,title='Porte'),\\\n",
    "         hv.Curve(pe).opts(width=800,title='Peigne de Dirac'))"
   ]
  },
  {
   "cell_type": "markdown",
   "metadata": {},
   "source": [
    "Question 3 : Calculer et afficher sur deux graphiques différents les vecteurs et le module de la DFT pour les signaux précédents en faisant varier les paramètres. Que vaut la TF discrète d'un peigne de Dirac quand la distance entre deux impulsions est un diviseur de la taille du Signal ?\n"
   ]
  },
  {
   "cell_type": "markdown",
   "metadata": {},
   "source": [
    "# Approximation linéaire et non linéaire."
   ]
  },
  {
   "cell_type": "markdown",
   "metadata": {},
   "source": [
    "Question 5 : Ecrire une fontion qui prend en entrée un veceteur $N$ et qui renvoie son approximation linéaire $S^l_m(f)$ dans la base des $(e_k)$. Dans ce cas $S_m^l(f)$ est défini comme la projection orthogonale sur l'espace vectoriel engendré par les $2m+1$ vecteurs $(e_k)_{k\\in\\{0:m\\}\\cup \\{N-m,N-1\\}}$  "
   ]
  },
  {
   "cell_type": "code",
   "execution_count": null,
   "metadata": {},
   "outputs": [],
   "source": [
    "def SommePartielle(f,m):\n",
    "    Nf=np.size(f)\n",
    "    temp=fftpack.fft(f)\n",
    "    for k in range(m+1,Nf-m):\n",
    "        temp[k]=0\n",
    "    temp2=fftpack.ifft(temp)\n",
    "    S=np.real(temp2)\n",
    "    return S"
   ]
  },
  {
   "cell_type": "code",
   "execution_count": null,
   "metadata": {},
   "outputs": [],
   "source": []
  },
  {
   "cell_type": "markdown",
   "metadata": {},
   "source": [
    "Question 6 : Afficher sur une même figure pour différentes valeurs de $m$, un vecteur et son approximation linéaire. On testera plusieurs choix de vecteurs dont au moins les deux premiers de référence et la fonction rampe.\n",
    "\n",
    "Question 7 : Qu'observe-t-on au niveau des discontinuités même pour de grandes valeurs de $m$ ?\n",
    "\n",
    "Question 8 : Ce phénomène est appelé Phénomène de Gibbs. En quoi est ce compatible avec la convergence $\\ell_2$ des sommes partielles de Fourier."
   ]
  },
  {
   "cell_type": "code",
   "execution_count": null,
   "metadata": {},
   "outputs": [],
   "source": [
    "S2=SommePartielle(S,10)\n",
    "hv.Curve(S)*hv.Curve(S2).opts(width=800)"
   ]
  },
  {
   "cell_type": "code",
   "execution_count": null,
   "metadata": {},
   "outputs": [],
   "source": [
    "def ApproxFourier2(s,n):\n",
    "    N=np.shape(s)[0]\n",
    "    fs=fftpack.fft(s)\n",
    "    afs=np.abs(fs)\n",
    "    temp=np.argsort(afs)\n",
    "    fsrec=fs*0\n",
    "    fig=hv.Curve(s)\n",
    "    for k in np.arange(1,2*n+1):\n",
    "        fsrec[temp[N-k]]=fs[temp[N-k]]\n",
    "        if np.mod(k+1,2)<1:\n",
    "            ftemp=0*fs\n",
    "            ftemp[temp[N-k]]=fs[temp[N-k]]\n",
    "            sin=2*np.real(fftpack.ifft(ftemp))\n",
    "            if k<2:\n",
    "                fig=hv.Curve(sin)\n",
    "            else:\n",
    "                fig=fig*hv.Curve(sin)\n",
    "    fapprox=np.real(fftpack.ifft(fsrec))\n",
    "    return fapprox,fsrec,fig"
   ]
  },
  {
   "cell_type": "code",
   "execution_count": null,
   "metadata": {},
   "outputs": [],
   "source": [
    "class ApproxFourier(param.Parameterized):\n",
    "    son = param.ObjectSelector(default=\"Guitare\",objects=sonsRef.keys())\n",
    "    N = param.Integer(20,bounds=(1,200))\n",
    "    def view(self):\n",
    "        s=sonsRef[self.son]\n",
    "        options = dict(width=800,height=250,toolbar=None,xaxis=None,yaxis=None)\n",
    "        fsrec=SommePartielle(s,self.N)\n",
    "        strN=\"%2.0f\" % self.N\n",
    "        text=hv.Text(50,150,'Nombre de coefficients= '+strN+' sur 750').opts(**options).opts(fontsize=30)\n",
    "        return pn.Column(hv.Curve(s).opts(**options)*\n",
    "                         hv.Curve(fsrec).opts(color='red').opts(**options))"
   ]
  },
  {
   "cell_type": "code",
   "execution_count": null,
   "metadata": {},
   "outputs": [],
   "source": [
    "Af= ApproxFourier()\n",
    "pn.Column(Af.param,Af.view)"
   ]
  },
  {
   "cell_type": "markdown",
   "metadata": {},
   "source": [
    "Question 9 : Ecrire un programme qui prend en entrée un vecteur $S$ et renvoie le vecteur formé des erreur d'approximation linéaire associée pour $m$ variant de 0 à $200$. On calculera une erreur renormalisée en divisant par $\\Vert S\\Vert_2^2$.\n",
    "\n",
    "Question 10 : Afficher cette courbe pour différents vecteurs. \n",
    "On pourra en afficher 3 ou 4 sur la même figure. \n",
    "\n",
    "Question 11 : Parmi ces vecteurs quel commentaire peut-on faire sur la courbe d'erreur associée à la gaussienne ? Sur la petit extrait de saxo ?"
   ]
  },
  {
   "cell_type": "code",
   "execution_count": null,
   "metadata": {},
   "outputs": [],
   "source": [
    "def ErreurLin(S):\n",
    "    Nf=np.size(S)\n",
    "    FS=fftpack.fft(S)\n",
    "    MFS=np.abs(FS*FS)\n",
    "    temp=np.zeros(Nf)\n",
    "    temp[Nf-1]=MFS[0]\n",
    "    Norme=np.sum(MFS)\n",
    "    for k in range(1,Nf//2-1):\n",
    "        temp[Nf-2*k]=MFS[k]\n",
    "        temp[Nf-2*k-1]=MFS[k]\n",
    "    er=np.cumsum(temp)/Norme\n",
    "    er=np.flip(er,axis=0)\n",
    "    er=er[0:201]\n",
    "    return er"
   ]
  },
  {
   "cell_type": "code",
   "execution_count": null,
   "metadata": {},
   "outputs": [],
   "source": [
    "er=ErreurLin(S)\n",
    "hv.Curve(er)"
   ]
  },
  {
   "cell_type": "markdown",
   "metadata": {},
   "source": [
    "# Approximation non linéaire"
   ]
  },
  {
   "cell_type": "markdown",
   "metadata": {},
   "source": [
    "Question 12 : Reprendre les mêmes questions pour l'approximation non linéaire."
   ]
  },
  {
   "cell_type": "code",
   "execution_count": null,
   "metadata": {},
   "outputs": [],
   "source": [
    "def ApproxNonLin(S,N):\n",
    "   #A compléter\n",
    "    return y"
   ]
  },
  {
   "cell_type": "code",
   "execution_count": null,
   "metadata": {},
   "outputs": [],
   "source": [
    "test=ApproxNonLin(S,200)\n",
    "hv.Curve(test).opts(width=800,title='Approximation non linéaire')"
   ]
  },
  {
   "cell_type": "markdown",
   "metadata": {},
   "source": [
    "Question 13 : Comparez les approximations linéaires et non linéaires pour différentes valeurs de $m$ et différents vecteurs (On pourra afficher le vecteur original, et les deux approxiamtions sur la même figure). \n",
    "\n",
    "Question 14 : Afficher les deux courbes d'erreur sur le même graphique . \n",
    "Y a t il une différence notoire entre les deux approximations pour les deux premiers vecteurs de référence ? Pour une gaussienne ? Pour le petit extrait de saxo ? "
   ]
  },
  {
   "cell_type": "markdown",
   "metadata": {},
   "source": [
    "# Convolution discrète et circulaire"
   ]
  },
  {
   "cell_type": "markdown",
   "metadata": {},
   "source": [
    "Si on considère deux vecteurs de $\\mathbb{C}^N$ comme des périodes de suites infinies périodiques de période $N$, on peut définir la convolution circulaire $h$ de $f$ et $g$ de la manière suivante :\n",
    "$$h[n]=f\\star g[n]=\\sum_{k=0}^{N-1}f[k]g[n-k]=\\sum_{k=0}^{N-1}f[n-k]g[k].$$\n",
    "Question 15 : Montrer que la suite ainsi définie vérifie pour tout $k\\in\\{ 0: N-1\\}$, $\\hat h[k]=\\hat f[k]\\hat g[k]$.\n",
    "\n",
    "On en déduit qu'il est possible d'effectuer une convolution de la manière suivante :"
   ]
  },
  {
   "cell_type": "code",
   "execution_count": null,
   "metadata": {},
   "outputs": [],
   "source": [
    "def Convcirc(S1,S2):\n",
    "    y=np.real(fftpack.ifft(fftpack.fft(S1)*fftpack.fft(S2)))\n",
    "    return y"
   ]
  },
  {
   "cell_type": "markdown",
   "metadata": {},
   "source": [
    "Question 16 : Effectuer quelques tests de convolution entre des fonctions indicatrices, gaussiennes et séries d'impulsions en faisant varier les paramètres, pour comprendre l'effet de la convolution. On affichera les résultats.\n",
    "\n",
    "Question 17 : Comment effectuer la translation périodique d'un signal avec une convolution ? Que se passe t il si on effectue la convolution d'un signal par un peigne de Dirac (tester avec 2, 4 ou 8 Dirac pour vous aider au besoin) ?\n",
    "\n",
    "Question 18 : Effectuer la convolution des deux signaux de références par des gaussiennes (et par des gaussiennes décalées) en faisant varier la variance de la gaussienne. Commenter."
   ]
  },
  {
   "cell_type": "code",
   "execution_count": null,
   "metadata": {},
   "outputs": [],
   "source": [
    "N=1024\n",
    "D=np.zeros(N)\n",
    "D[100]=1\n",
    "g=Gaussienne(N,0.5,16)\n",
    "y=Convcirc(g,D)\n",
    "pn.Column(hv.Curve(g)*hv.Curve(y).opts(width=800),hv.Curve(D).opts(width=800))"
   ]
  },
  {
   "cell_type": "code",
   "execution_count": null,
   "metadata": {},
   "outputs": [],
   "source": [
    "N=1024\n",
    "g=Gaussienne(N,0.5,16)\n",
    "g2=fftpack.fftshift(g)\n",
    "D=np.zeros(N)\n",
    "D[300]=1\n",
    "D[600]=-1\n",
    "y=Convcirc(D,g2)\n",
    "pn.Column(hv.Curve(g2).opts(width=800),hv.Curve(D).opts(width=800),hv.Curve(y).opts(width=800))"
   ]
  },
  {
   "cell_type": "markdown",
   "metadata": {},
   "source": [
    "# Echantillonnage"
   ]
  },
  {
   "cell_type": "markdown",
   "metadata": {},
   "source": [
    "L'échantillonnage d'un signal disret (ou d'un vecteur) consiste à en extraire certaines valeurs à intervalle régulier. \n",
    "Par exemple tous les 2 ou 5 échantillons. Pour bien comprendre l'effet de l'échantillonnage sur le spectre (la TF discrète d'un signal), on peut échantillonner un signal en ne conservant qu'une valeur à intervalle régulier et mettre les autres à 0. On conserve ainsi un vecteur de même dimension que le signal original. \n",
    "\n",
    "Question 19 : Ecrire une fonction d'échantillonnage qui prend en entrée un signal S et une période $d$ et qui renvoie un signal de même dimension échantillonné. \n",
    "\n",
    "Question 20 : Afficher le résultat pour différents vecteurs."
   ]
  },
  {
   "cell_type": "code",
   "execution_count": null,
   "metadata": {},
   "outputs": [],
   "source": [
    "def Echan1(S,d):\n",
    "    NS=np.size(S)\n",
    "    y=np.zeros(NS)\n",
    "    for k in range(0,NS,d):\n",
    "        y[k]=S[k]\n",
    "    return y\n",
    "    "
   ]
  },
  {
   "cell_type": "code",
   "execution_count": null,
   "metadata": {},
   "outputs": [],
   "source": [
    "y=Echan1(S,5)\n",
    "hv.Curve(y).opts(width=800)"
   ]
  },
  {
   "cell_type": "markdown",
   "metadata": {},
   "source": [
    "Question 20 : Afficher sur deux figures séparées les TF discrètes du signal original et du signal échantillonné.\n",
    "\n"
   ]
  },
  {
   "cell_type": "code",
   "execution_count": null,
   "metadata": {},
   "outputs": [],
   "source": [
    "Fy=abs(fftpack.fft(y))\n",
    "FS=abs(fftpack.fft(S))\n",
    "pn.Column(hv.Curve(FS).opts(width=800,title='FFT du Siganl original')\\\n",
    "          ,hv.Curve(Fy).opts(width=800,title='FFT du Signal échantillonné'))"
   ]
  },
  {
   "cell_type": "markdown",
   "metadata": {},
   "source": [
    "Question 21 : Justifier qu'on peut interpréter un tel échantillonnage comme une multiplication par un Peigne de Dirac.\n",
    "En déduire l'effet dans le domaine de Fourier d'une telle multiplication. \n"
   ]
  },
  {
   "cell_type": "code",
   "execution_count": null,
   "metadata": {},
   "outputs": [],
   "source": [
    "pe=Peigne(1500,5)\n",
    "y1=pe*S\n",
    "pn.Column(hv.Curve(y).opts(width=800),hv.Curve(y1).opts(width=800))\n",
    "    \n"
   ]
  },
  {
   "cell_type": "markdown",
   "metadata": {},
   "source": [
    "\n",
    "Question 22 : Comment reconstruire, même approximativement le signal original, à partir du Signal échantillonné ?\n",
    "\n"
   ]
  },
  {
   "cell_type": "markdown",
   "metadata": {},
   "source": [
    "On donne ici une réponse dans un cas particulier : \n",
    "On va multiplier la transformée de Fourier du signal échantillonné par une indicatrice puis effectuer une transformée de Fourier inverse: ici on a effectué un échantillonnage tous les 5 points, le sprectre a été périodisé ( fois. Pour le econstruire on ne va docn conserver qu' un cinqième des fréquences lesp lus basses. Comme le signal est traité sur 1500 points, on va conserver 300 fréquences, 150 à gauche et 150 à droite. "
   ]
  },
  {
   "cell_type": "code",
   "execution_count": null,
   "metadata": {},
   "outputs": [],
   "source": [
    "p1=Porte(1500,0,150)+Porte(1500,1350,1500)\n",
    "hv.Curve(Fy)*hv.Curve(90*p1).opts(width=800)# Le facteur 50 est juste là \n",
    "#pour que les deux graphiques soient visibles sur la même figure."
   ]
  },
  {
   "cell_type": "code",
   "execution_count": null,
   "metadata": {},
   "outputs": [],
   "source": [
    "fyrec=fftpack.fft(y)*p1\n",
    "yrec=5*np.real(fftpack.ifft(fyrec))\n",
    "pn.Column(hv.Curve(S).opts(width=500,title='Son original')\\\n",
    "          ,hv.Curve(yrec).opts(width=500,title='Son reconstruit à partir du son échantillonné'))"
   ]
  },
  {
   "cell_type": "markdown",
   "metadata": {},
   "source": [
    "Question 23 : La reconstruction peut-elle parfaite ? A quelle condition sur la fréquence (ou période ) d'échantillonnage."
   ]
  },
  {
   "cell_type": "code",
   "execution_count": null,
   "metadata": {},
   "outputs": [],
   "source": []
  },
  {
   "cell_type": "code",
   "execution_count": null,
   "metadata": {},
   "outputs": [],
   "source": []
  }
 ],
 "metadata": {
  "kernelspec": {
   "display_name": "Python 3",
   "language": "python",
   "name": "python3"
  },
  "language_info": {
   "codemirror_mode": {
    "name": "ipython",
    "version": 3
   },
   "file_extension": ".py",
   "mimetype": "text/x-python",
   "name": "python",
   "nbconvert_exporter": "python",
   "pygments_lexer": "ipython3",
   "version": "3.7.3"
  },
  "latex_envs": {
   "LaTeX_envs_menu_present": true,
   "autoclose": false,
   "autocomplete": true,
   "bibliofile": "biblio.bib",
   "cite_by": "apalike",
   "current_citInitial": 1,
   "eqLabelWithNumbers": true,
   "eqNumInitial": 1,
   "hotkeys": {
    "equation": "Ctrl-E",
    "itemize": "Ctrl-I"
   },
   "labels_anchors": false,
   "latex_user_defs": false,
   "report_style_numbering": false,
   "user_envs_cfg": false
  }
 },
 "nbformat": 4,
 "nbformat_minor": 2
}
