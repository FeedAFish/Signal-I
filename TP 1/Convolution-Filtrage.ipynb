{
 "cells": [
  {
   "cell_type": "markdown",
   "metadata": {},
   "source": [
    "# Convolution, Filtrage."
   ]
  },
  {
   "cell_type": "markdown",
   "metadata": {},
   "source": [
    "## Définition"
   ]
  },
  {
   "cell_type": "markdown",
   "metadata": {},
   "source": [
    "La convolution est une opération mathématique qui correspond à ce que les physiciens appellent un filtrage. \n",
    "On peut montrer qu'un très grand nombre d'opérations de traitement du son et des images sont des convolutions, on peut citer par exemple : le réhaussement ou l'aténuation de certaines fréquences (equalizer), la création d'un écho (réverbération),réalaliser une moyenne glissante sur un signal, ou une moyenne locale sur une image, le réhaussement de contraste d'une image, la création d'un flou etc...\n",
    "https://fr.wikipedia.org/wiki/Noyau_(traitement_d%27image)\n",
    "Les réseaux de neurones les plus performants actuellement dans de nombreux domaines du traitements d'images sont des CNN (Convolutional Neural Network) et n'effectue pour ainsi dire que des convolutions entre chaque couche du réseau :\n",
    "https://fr.wikipedia.org/wiki/Réseau_neuronal_convolutif\n",
    "\n",
    "Ce sont également des formules de convolution qui permettent de reconstruire un signal analogique à partir d'un signal numérique (Nous verrons le théorème de Shannon plus tard.)\n",
    "\n",
    "Il est possible de définir la convolutions de fonctions définies sur $\\mathbb{R}$ :\n",
    "\\begin{equation}\n",
    "h(t):=f\\star g(t)=\\int_{u\\in\\mathbb{R}}f(u)g(t-u)du=\\int_{u\\in\\mathbb{R}}f(t-u)g(u)du\n",
    "\\end{equation}\n",
    "La fonction $h$ est dite la convoluée de $f$ et de $g$. Notez que la définition est symétrique en $f$ et $g$. on peut le voir en effectuant le changement de variable $y=t-u$.\n",
    "\n",
    "On peut également définir la convolution de deux fonctions $2\\pi$-périodiques $f$ et $g$:\n",
    "\\begin{equation}\n",
    "h(t):=f\\star g(t)=\\frac{1}{2\\pi}\\int_{u=0}^{2\\pi}f(u)g(t-u)du=\\frac{1}{2\\pi}\\int_{u=0}^{2\\pi}f(t-u)g(u)du\n",
    "\\end{equation}\n",
    "Et on peut définir la notion de convolution sur des vecteurs complexes ayant $N$ composantes ($\\mathbb{C}^N$).\n",
    "Si $f$ et $g$ sont deux vecteurs de $\\mathbb{C}^N$, on dit que $h$ est le vecteur convolué ou le produit de convolution de $f$ et $g$ quand il est défini de la manière suivante :\n",
    "\\begin{equation}\n",
    "\\forall k\\leqslant N-1,\\,h[k]=\\sum_{n=0}^{N-1}f[n]g[k-n]\n",
    "\\end{equation}\n",
    "Cette définition pose un problème quand on veut évaluer $g[k-n]$ quand $n>k$... Il existe pour faire simple deux conventions classiques pour résoudre ce problème :\n",
    "\\begin{enumerate}\n",
    "\\item Pour $l<0$, on pose $g[l]=0$.\n",
    "\\item On considère que $f$ et $g$ sont périodiques de période $N$ et si $l<N$ on dit que $g[l]=g[N+l]$.\n",
    "\\end{enumerate}\n",
    "On parle alors de convolution circulaire. C'est cette seconde définition de la convolution que nous utiliserons dans le cours et dans les notebooks. Nous verrons que la convolution circulaire est intimement liée à la transformée de Fourier. Ceci est vrai pour les signaux numériques mais également pour les fonctions, $2\\pi$-périodiques ou pas. \n",
    "\n",
    "La formule qui est donnée est la convolution 1D, celle utilisée pour les sons ou les signaux 1D. On peut étendre cette définition aux images et aux tableaux 2D : si $f$ et $g$ sont deux tableaux de nombres on note $h=f\\star g$ le produit de convolution de ces deux tableaux 2D par \n",
    "\\begin{equation}\n",
    "h[k_1][k_2]=\\sum_{n_1}\\sum_{n_2}f[n_1,n_2]g[k_1-n_1,k_2-n_2].\n",
    "\\end{equation}\n"
   ]
  },
  {
   "cell_type": "markdown",
   "metadata": {},
   "source": [
    "## Lien entre la convolution circulaire et la transformée de Fourier."
   ]
  },
  {
   "cell_type": "markdown",
   "metadata": {},
   "source": [
    "On rappelle la définition de la transformée de Fourier discrète. \n",
    "Cette transformée est une application qui envoie un vecteur de $\\mathbb{C}^N$ sur un vecteur de $\\mathbb{C}^N$, où $\\mathbb{C}^N$ est muni du produit scalaire suivant \n",
    "$$\\langle f,g\\rangle=\\sum_{k=0}^{N-1}f[k]\\overline{g[k]}.$$\n",
    "Cette application linéaire est définie par la formule suivante : pour tout $k\\in\\{ 0: N-1\\}$\n",
    "$$\\hat{f}[k]=\\sum_{n=0}^{N-1}f[n]e^{-\\frac{2i\\pi kn}{N}}$$\n",
    "Je vous laisse vous reporter au notebook précédent pour plus d'explications et pour le calcul de cette transformée en python."
   ]
  },
  {
   "cell_type": "markdown",
   "metadata": {},
   "source": [
    "Si $h$ est le produit de convolution de $f$ et $g$ alors pour tout $k\\in\\{ 0: N-1\\}$\n",
    "\\begin{equation}\n",
    "\\hat h[k]=\\hat f[k]\\hat g[k]\n",
    "\\end{equation}\n",
    "Ainsi le produit de convolution circulaire qui a une formule un peu compliquée, s'exprime de manière très simple dans le domaine de Fourier.  \n",
    "Démonstration :\n",
    "\\begin{align*}\n",
    "\\hat h[k]&=\\sum_{n}h[n]e^{-\\frac{2i\\pi kn}{N}}\\\\\n",
    "&=\\sum_{n}\\sum_{l}f[l]g[n-l]e^{-\\frac{2i\\pi kn}{N}}\\\\\n",
    "&=\\sum_{l}f[l]\\sum_n g[n-l]e^{-\\frac{2i\\pi kn}{N}}\\\\\n",
    "&=\\sum_{l}f[l]\\sum_p g[p]e^{-\\frac{2i\\pi k(p+l)}{N}}\\\\\n",
    "&=\\sum_{l}f[l]e^{-\\frac{2i\\pi kl}{N}}\\sum_p g[p]e^{-\\frac{2i\\pi kp}{N}}\\\\\n",
    "&=\\hat f[k]\\times \\hat g[k]. \n",
    "\\end{align*}"
   ]
  },
  {
   "cell_type": "markdown",
   "metadata": {},
   "source": [
    "Ainsi, il est possible d'effectuer la convolution de deux signaux en effectuant le produit dans le domaine de Fourier.   "
   ]
  },
  {
   "cell_type": "code",
   "execution_count": null,
   "metadata": {},
   "outputs": [],
   "source": [
    "import holoviews as hv\n",
    "hv.extension('bokeh')\n",
    "import numpy as np\n",
    "import param\n",
    "import holoviews as hv,panel as pn,param\n",
    "from holoviews.streams import Pipe\n",
    "import time\n",
    "import pandas as pd\n",
    "import panel as pn\n",
    "from panel.pane import LaTeX\n",
    "from scipy.io.wavfile import read\n",
    "from scipy import fftpack\n",
    "from IPython.display import Audio\n",
    "import requests\n",
    "from io import BytesIO\n",
    "from PIL import Image\n",
    "import shutil\n",
    "from urllib.request import urlopen\n",
    "import io\n",
    "from scipy.io.wavfile import read\n",
    "import scipy.io as sio"
   ]
  },
  {
   "cell_type": "code",
   "execution_count": null,
   "metadata": {},
   "outputs": [],
   "source": [
    "S4=res=np.load('Blocks.npy')\n",
    "S3=res=np.load('Piece.npy')\n",
    "signauxRef= {\"Piece\" : S3,\"Blocks\" : S4}\n",
    "\n"
   ]
  },
  {
   "cell_type": "markdown",
   "metadata": {},
   "source": [
    "Nous allons voir sur quelques exemples simples l'effet de la convolution."
   ]
  },
  {
   "cell_type": "code",
   "execution_count": null,
   "metadata": {},
   "outputs": [],
   "source": [
    "def Gaussienne(N,sigma2,b):\n",
    "    x = np.linspace(-b, b, N)\n",
    "    y=np.exp(-np.abs(x)*np.abs(x)/sigma2)\n",
    "    return y\n",
    "def Porte(N,d,f):\n",
    "    y=np.zeros(N)\n",
    "    for k in range(d,f):\n",
    "        y[k]=1\n",
    "    return y\n",
    "def Peigne(N,d):\n",
    "    y=np.zeros(N)\n",
    "    nb=int(np.floor(N/d))\n",
    "    for k in range(0,nb):\n",
    "        y[k*d]=1\n",
    "    return y    "
   ]
  },
  {
   "cell_type": "code",
   "execution_count": null,
   "metadata": {},
   "outputs": [],
   "source": [
    "g=Gaussienne(1024,0.1,10)\n",
    "po=Porte(1000,300,600)\n",
    "pe=Peigne(1000,50)\n"
   ]
  },
  {
   "cell_type": "markdown",
   "metadata": {},
   "source": [
    "Pour calculer la convolution entre deux signaux (ou vecteurs) une manière simple est de faire le produit dans le domaine de Fourier. Théoriquement la convolution de deux signaux réels est réel, mais si on passe par Fourier, on peut avoir des erreurs numériques complexes donc je vous invite à ne conserver que la partie réelle du résultat. Voici un exemple de la convolution d'un signal de référence avec une gaussienne :\n"
   ]
  },
  {
   "cell_type": "code",
   "execution_count": null,
   "metadata": {},
   "outputs": [],
   "source": [
    "FS=fftpack.fft(S3)\n",
    "Fg=fftpack.fft(g)\n",
    "conv=np.real(fftpack.ifft(FS*Fg))\n",
    "pn.Column(hv.Curve(S3).opts(width=800,title='signal de référence'),\\\n",
    "       hv.Curve(g).opts(width=800,title='gaussienne'),hv.Curve(conv).opts(width=800,title='produit de convolution'))"
   ]
  },
  {
   "cell_type": "code",
   "execution_count": null,
   "metadata": {},
   "outputs": [],
   "source": [
    "def Convcirc(S1,S2):\n",
    "    y=np.real(fftpack.ifft(fftpack.fft(S1)*fftpack.fft(S2)))\n",
    "    return y"
   ]
  },
  {
   "cell_type": "markdown",
   "metadata": {},
   "source": [
    "Même si la convolution est symétrique, on a coutume, quand un des deux signaux est élémentaire de parler de fitre pour ce dernier. Ici on a ainsi convoluer le signal de référence par un filtre gaussien. On retrouve la forme générale du signal de référence mais en plus lisse et en décalé. Ce lissage est dû à la forme de la gaussienne et le décalage est dû au fait que la gaussienne utilisée est centrée au milieu, ici en 512. Attention ici j'ai pris soin de prendre deux siganux de même taille. Si tel n'est pas le cas, il faut compléter le plus petit par des zéros.\n",
    "Pour voir l'effet des paramètres de la gaussienne, faites des tests avec le dashboard suivant :"
   ]
  },
  {
   "cell_type": "code",
   "execution_count": null,
   "metadata": {},
   "outputs": [],
   "source": [
    "class ConvGaussienne(param.Parameterized):\n",
    "    sig = param.ObjectSelector(default=\"Piece\",objects=signauxRef.keys())\n",
    "    pos = param.Integer(100,bounds=(0,1023))\n",
    "    var = param.Number(0.3,bounds=(0.1,2))\n",
    "    def view(self):\n",
    "        options = dict(width=500,height=150,toolbar=None,xaxis=None,yaxis=None)\n",
    "        s=signauxRef[self.sig]\n",
    "        fs=fftpack.fft(s)\n",
    "        g=Gaussienne(1024,self.var**2/10,10)\n",
    "        somme=np.sum(g)\n",
    "        g2=np.roll(g/somme,self.pos-512)\n",
    "        fg2=fftpack.fft(g2)\n",
    "        conv=np.real(fftpack.ifft(fs*fg2))\n",
    "        return pn.Column(hv.Curve(s).opts(**options).opts(title='signal de référence'),hv.Curve(g2).opts(color='red').opts(title='filtre gaussien').opts(**options)\\\n",
    "                         ,hv.Curve(conv).opts(color='black').opts(**options).opts(title='produit de convolution'))"
   ]
  },
  {
   "cell_type": "code",
   "execution_count": null,
   "metadata": {},
   "outputs": [],
   "source": [
    "cg= ConvGaussienne()\n",
    "pn.Row(cg.param,cg.view)"
   ]
  },
  {
   "cell_type": "markdown",
   "metadata": {},
   "source": [
    "## La convolution comme une moyenne glissante."
   ]
  },
  {
   "cell_type": "markdown",
   "metadata": {},
   "source": [
    "Vous pouvez voir la convolution comme une moyenne glissante ou moyenne locale... quand on effectue la convolution par une gaussienne on effectue en fait une moyenne locale. \n",
    "Pour mieux comprendre cet effet de moyenne local on peut regarder plus précisément l'effet de la convolution par une fonction indicatrice ou fonction porte.\n",
    "\n"
   ]
  },
  {
   "cell_type": "code",
   "execution_count": null,
   "metadata": {},
   "outputs": [],
   "source": [
    "class ConvInd(param.Parameterized):\n",
    "    sig = param.ObjectSelector(default=\"Piece\",objects=signauxRef.keys())\n",
    "    pos = param.Integer(0,bounds=(0,35))\n",
    "    Nbmoy = param.Integer(5,bounds=(1,30))\n",
    "    def view(self):\n",
    "        options = dict(width=600,height=150,toolbar=None,xaxis=None,yaxis=None)\n",
    "        s=signauxRef[self.sig]\n",
    "        fs=fftpack.fft(s)\n",
    "        po=Porte(1024,self.pos,self.pos+self.Nbmoy)\n",
    "        somme=np.sum(po)\n",
    "        fpo=fftpack.fft(po/somme)\n",
    "        conv=np.real(fftpack.ifft(fs*fpo))\n",
    "        return pn.Column(hv.Curve(s).opts(**options).opts(title='signal de référence')\\\n",
    "                         ,hv.Bars(po[0:65]).opts(color='red',title='filtre porte').opts(**options)\\\n",
    "                         ,hv.Curve(conv).opts(color='black').opts(**options).opts(title='produit de convolution'))"
   ]
  },
  {
   "cell_type": "markdown",
   "metadata": {},
   "source": [
    "Dans l'exemple suivant, on filtre un signal de référence par une focntion indicatrice (ou focntion porte). le second graphique ne représente que les 55 premières composantes de ce filtre. Les valeurs par défaut pos=0 et Nbmoy correspondent à un signal nuémrique (vecteur) ayant ses 5 premières composantes non nulles et égales à 1/5...\n",
    "Faire la convolution par un tel sognal revient à calculer une moyenne glissante sur 5 points à partir du signal de départ. Si on augmente NbMoy, on augmente le nombre de points surle quel on fait la moyenne et on la convolution lisse encore plus le signal original. Si on décale (avec le paramètre pos) la focntion porte, on effectue une moyenne glissante décalée... on translate docn juste le produit de convolution.\n",
    "\n",
    "J'ai utilisé des bars pour l\"indicatrice juste pour aider à la visualisation mais ce choix n'a aucun impact sur le résultat."
   ]
  },
  {
   "cell_type": "code",
   "execution_count": null,
   "metadata": {},
   "outputs": [],
   "source": [
    "cp= ConvInd()\n",
    "pn.Row(cp.param,cp.view)"
   ]
  },
  {
   "cell_type": "markdown",
   "metadata": {},
   "source": [
    "Nous pouvons bien entendu effectuer des moyennes glissantes avec des coefficients non égaux : par exemple on peut faire une moyenne sur trois points en prenant comme coefficients $\\frac{1}{2},\\frac{1}{3}$ et $\\frac{1}{6}$.\n",
    "Si on considère le vecteur (ou signal numérique) suivant \n",
    "\\begin{equation}\n",
    "S=[0,0,6,24,0,18,-6,30,0,0,12]\n",
    "\\end{equation}\n",
    "et on calcule la moyenne glissante.\n",
    "Pour caluler chaque terme de la moyenne glissante $M[k]$ on utilise la règle suivante :\n",
    "\\begin{equation}\n",
    "M[k]=\\frac{1}{2}S[k]+\\frac{1}{3}S[k-1]+\\frac{1}{6}S[k-2]\n",
    "\\end{equation}\n",
    "Pour $k=0$ et 1 vous allez avoir un problème... que vaut $S[-1]$ ou $S[-2]$ ? Comme je l'ai expliqué plus haut on va faire l'hypothèse que le signal est périodique et utiliser les deux dernières valeurs du signal, ainsi $S[-1]=12$ et $S[-2]=0$. \n",
    "La moyenne glissante (circulaire) sera \n",
    "\\begin{equation}\n",
    "M=[4,2,3,14,9,13,3,16,9,5,6]\n",
    "\\end{equation}\n",
    "Vous pouvez vérifier que le résulat est celui qui est donné par le calcul suivant :"
   ]
  },
  {
   "cell_type": "code",
   "execution_count": null,
   "metadata": {},
   "outputs": [],
   "source": [
    "S=[0,0,6,24,0,18,-6,30,0,0,12]\n",
    "filtre=[1/2,1/3,1/6,0,0,0,0,0,0,0,0]\n",
    "FS=fftpack.fft(S)\n",
    "Ff=fftpack.fft(filtre)\n",
    "conv=np.real(fftpack.ifft(FS*Ff))\n",
    "print(conv)"
   ]
  },
  {
   "cell_type": "markdown",
   "metadata": {},
   "source": [
    "Dans cet exemple on a effectué à la main la convolution par le filtre qu'on peut représenter graphiquement par :"
   ]
  },
  {
   "cell_type": "code",
   "execution_count": null,
   "metadata": {},
   "outputs": [],
   "source": [
    "hv.Bars(filtre)"
   ]
  },
  {
   "cell_type": "markdown",
   "metadata": {},
   "source": [
    "Dans l'exemple sur les focntions \"porte\" ou \"indicatrice\", on a effectué une moyenne glissante par un filtre de la forme  "
   ]
  },
  {
   "cell_type": "code",
   "execution_count": null,
   "metadata": {},
   "outputs": [],
   "source": [
    "po=Porte(11,0,5)\n",
    "hv.Bars(po).opts(color='red')"
   ]
  },
  {
   "cell_type": "markdown",
   "metadata": {},
   "source": [
    "Dans le cas d'une convolution par une gaussienne, on a effectué une moyenne glissante avec des coefficients ressemblant à "
   ]
  },
  {
   "cell_type": "code",
   "execution_count": null,
   "metadata": {},
   "outputs": [],
   "source": [
    "options = dict(width=800,height=150,toolbar=None,xaxis=None)\n",
    "g=Gaussienne(1024,0.1,10)\n",
    "hv.Bars(g[470:550]).opts(**options)"
   ]
  },
  {
   "cell_type": "markdown",
   "metadata": {},
   "source": [
    "L'élément neutre de la convolution est le vecteur n'ayant que des composantes nulles sauf la première qui est égale à 1. Ce vecteur est parfois appelé Dirac ou Dirac discret en hommage à Paul Dirac grand mathématicien du 20ème siècle. \n",
    "Essayez de le vérifier sur quelques exemples."
   ]
  },
  {
   "cell_type": "markdown",
   "metadata": {},
   "source": [
    "## Convolution et echos"
   ]
  },
  {
   "cell_type": "markdown",
   "metadata": {},
   "source": [
    "La création d'un ou plusieurs échos sur un signal numérique peut se faire par convolution par un signal, somme de Dirac décalés..."
   ]
  },
  {
   "cell_type": "code",
   "execution_count": null,
   "metadata": {},
   "outputs": [],
   "source": [
    "Diracs=np.zeros(1024)\n",
    "Diracs[0]=1\n",
    "Diracs[100]=1/2\n",
    "Diracs[600]=-1/2\n",
    "g=Gaussienne(1024,0.1,10)\n",
    "g2=g/sum(g)*5\n",
    "Prodconv=Convcirc(g2,Diracs)\n",
    "pn.Column(hv.Bars(Diracs).opts(**options).opts(title='Diracs'),\\\n",
    "          hv.Curve(g2).opts(color='red',title='Gaussienne').opts(**options),\n",
    "          hv.Curve(Prodconv).opts(**options,title='Produit de convolution'))"
   ]
  },
  {
   "cell_type": "markdown",
   "metadata": {},
   "source": [
    "On peut interpréter ce produit de convolution de deux manières différentes, toutes les deux valables :\n",
    "\\begin{enumerate}\n",
    "\\item On peut voir les Dirac comme le signal et la gaussienne comme le filtre, dans ce cas, on peut voir le produit de convolution comme une version lissée et décalé du signal \"Diracs\" (décalé car la gaussienne est centréece qui induit une translation circulaire de la moitié de la longueur du signal).\n",
    "\\item On peut voir la Gaussienne comme le signal et les Dirac comme le filtre. Dans ce cas on peut voir le produit de convolution comme des copies décalées de la Gaussienne... le décalage et l'amplitude des copies étant définies par l'amplitude et la dispositions des coefficients non nuls dans le signal \"Diracs\". Vous pouvez essayer de faire des tests pour vérifier.   \n",
    "\\end{enumerate}"
   ]
  },
  {
   "cell_type": "markdown",
   "metadata": {},
   "source": [
    "Question : Effectuer des tests similaires en remplaçant la gaussienne par une fonction porte et en modifiant le vecteur Diracs. Essayer d'anticiper le résultat pour voir si ce dernier correspond à ce que vous avez compris."
   ]
  },
  {
   "cell_type": "markdown",
   "metadata": {},
   "source": [
    "## Convolution et périodisation d'un signal."
   ]
  },
  {
   "cell_type": "markdown",
   "metadata": {},
   "source": [
    "Pour les raisons précédentes, la convolution avec un peigne de Diracs, c'est-à-dire des Diracs régulièrement espacés (le premier paramètre de la fonction indique le nombre de composantes du vecteurs et le second l'espacement entre les \"dents\" du peigne) : "
   ]
  },
  {
   "cell_type": "code",
   "execution_count": null,
   "metadata": {},
   "outputs": [],
   "source": [
    "peigne=Peigne(1024,128)\n",
    "hv.Bars(peigne).opts(**options)"
   ]
  },
  {
   "cell_type": "markdown",
   "metadata": {},
   "source": [
    "Modifier le second paramètre pour voir... \n",
    "Dans la suite, on prendra toujours un espacement qui est un diviseur du nombre de composantes du signal.\n",
    "\n",
    "La convolution par un tel peigne de Dirac permet de périodiser un signal :\n"
   ]
  },
  {
   "cell_type": "code",
   "execution_count": null,
   "metadata": {},
   "outputs": [],
   "source": [
    "gper=Convcirc(g2,peigne)\n",
    "pn.Column(hv.Bars(peigne).opts(**options).opts(title='peigne de Dirac'),\\\n",
    "          hv.Curve(g2).opts(color='red',title='Gaussienne').opts(**options),\n",
    "          hv.Curve(gper).opts(**options,title='Gaussienne périodisée'))"
   ]
  },
  {
   "cell_type": "markdown",
   "metadata": {},
   "source": [
    "Questions : Que se passe t il si on rapproche les dents du Peigne ? si on les espace ?\n",
    "Essayez de remplacer la gaussienne par un autre signal ou filtre. "
   ]
  },
  {
   "cell_type": "markdown",
   "metadata": {},
   "source": [
    "# Un aperçu de la convolution pour le traitement d'images."
   ]
  },
  {
   "cell_type": "code",
   "execution_count": null,
   "metadata": {},
   "outputs": [],
   "source": [
    "local=0\n",
    "def chargeData(name):\n",
    "    if local:\n",
    "        if name=='Lenna':\n",
    "            res=np.array(Image.open(\"./Archive/img/Lenna.jpg\")).astype(float)\n",
    "        if name=='Canaletto':\n",
    "            res=np.array(Image.open(\"./Archive/img/Canaletto.jpeg\")).astype(float)\n",
    "        if name=='Minotaure':\n",
    "            res=np.array(Image.open(\"./Archive/img/MinotaureBruite.jpeg\")).astype(float)   \n",
    "        if name=='Cartoon':\n",
    "            res=np.array(Image.open(\"./Archive/img/Cartoon.jpg\")).astype(float) \n",
    "    else:\n",
    "        if name=='Lenna':\n",
    "            url='https://plmlab.math.cnrs.fr/dossal/optimisationpourlimage/raw/master/img/Lenna.jpg'        \n",
    "            response = requests.get(url)\n",
    "            res=np.array(Image.open(BytesIO(response.content))).astype(float)\n",
    "        if name=='Canaletto':\n",
    "            url='https://plmlab.math.cnrs.fr/dossal/optimisationpourlimage/raw/master/img/Canaletto.jpeg'\n",
    "            response = requests.get(url)\n",
    "            res=np.array(Image.open(BytesIO(response.content))).astype(float)\n",
    "        if name=='Minotaure':\n",
    "            url='https://plmlab.math.cnrs.fr/dossal/optimisationpourlimage/raw/master/img/MinotaureBruite.jpeg'\n",
    "            response = requests.get(url)\n",
    "            res=np.array(Image.open(BytesIO(response.content))).astype(float)\n",
    "        if name=='Cartoon':\n",
    "            url='https://plmlab.math.cnrs.fr/dossal/optimisationpourlimage/raw/master/img/Cartoon.jpg'        \n",
    "            response = requests.get(url)\n",
    "            res=np.array(Image.open(BytesIO(response.content))).astype(float)\n",
    "    return res"
   ]
  },
  {
   "cell_type": "code",
   "execution_count": null,
   "metadata": {},
   "outputs": [],
   "source": [
    "im=chargeData('Canaletto')\n",
    "im2=chargeData('Lenna')\n",
    "imagesRef= {\"Lenna\" : im2,\"Canaletto\" : im}\n",
    "options = dict(cmap='gray',xaxis=None,yaxis=None,width=400,height=400,toolbar=None)\n",
    "pn.Row(hv.Image(im).opts(**options),hv.Image(im2).opts(**options))"
   ]
  },
  {
   "cell_type": "code",
   "execution_count": null,
   "metadata": {},
   "outputs": [],
   "source": [
    "def Gaussian2D(N,sigma):\n",
    "    x, y = np.meshgrid(np.linspace(-1,1,N), np.linspace(-1,1,N))\n",
    "    d = np.sqrt(x*x+y*y)\n",
    "    mu =0.0\n",
    "    g= np.exp(-( (d-mu)**2 / ( 2.0 * sigma**2 ) ) )\n",
    "    g2=np.fft.fftshift(g)\n",
    "    s=sum(sum(g2))\n",
    "    g2=g2/s\n",
    "    return g2"
   ]
  },
  {
   "cell_type": "markdown",
   "metadata": {},
   "source": [
    "Pour des images 2D, la convolution s'effectue via la convolution 2D."
   ]
  },
  {
   "cell_type": "code",
   "execution_count": null,
   "metadata": {},
   "outputs": [],
   "source": [
    "def Convcirc2D(I1,I2):\n",
    "    y=np.real(fftpack.ifft2(fftpack.fft2(I1)*fftpack.fft2(I2)))\n",
    "    return y"
   ]
  },
  {
   "cell_type": "markdown",
   "metadata": {},
   "source": [
    "Plus le noyau gaussien est large plus le flou est large."
   ]
  },
  {
   "cell_type": "code",
   "execution_count": null,
   "metadata": {},
   "outputs": [],
   "source": [
    "optionsImage = dict(cmap='gray',xaxis=None,yaxis=None,width=450,height=450,toolbar=None)\n",
    "h_1=Gaussian2D(512,0.005)\n",
    "h_2=Gaussian2D(512,0.01)\n",
    "h_3=Gaussian2D(512,0.02)\n",
    "imconv1=Convcirc2D(im,h_1)\n",
    "imconv3=Convcirc2D(im,h_3)\n",
    "pn.Row(hv.Image(imconv1).opts(**optionsImage),hv.Image(imconv3).opts(**optionsImage))"
   ]
  },
  {
   "cell_type": "markdown",
   "metadata": {},
   "source": [
    "Si on veut détecter les contours d'une image, une possibilité est de lui appliquer un filtre spécifique c'est à dire effectuer une convolution particulière : La variable vois (pour voisinage) défini le nombre de pixels sur lequel on cherche à détecter les contours. Vous pouvez modifier sa valeur à 2 ou 3..."
   ]
  },
  {
   "cell_type": "code",
   "execution_count": null,
   "metadata": {},
   "outputs": [],
   "source": [
    "Filtrecontours=0*im\n",
    "vois=1\n",
    "for k in np.arange(0,1+2*vois):\n",
    "    for j in np.arange(0,1+2*vois):\n",
    "        Filtrecontours[k,j]=-1\n",
    "Filtrecontours[vois,vois]=(2*vois+1)**2-1\n",
    "Contours=Convcirc2D(im,Filtrecontours)\n",
    "hv.Image(np.abs(Contours[1+vois:511-vois,1+vois:511-vois])).opts(**optionsImage)"
   ]
  },
  {
   "cell_type": "code",
   "execution_count": null,
   "metadata": {},
   "outputs": [],
   "source": [
    "Filtrecontours=0*im2\n",
    "vois=1\n",
    "for k in np.arange(0,1+2*vois):\n",
    "    for j in np.arange(0,1+2*vois):\n",
    "        Filtrecontours[k,j]=-1\n",
    "Filtrecontours[vois,vois]=(2*vois+1)**2-1\n",
    "Contours=Convcirc2D(im2,Filtrecontours)\n",
    "hv.Image(np.abs(Contours[1+vois:511-vois,1+vois:511-vois])).opts(**optionsImage)"
   ]
  },
  {
   "cell_type": "markdown",
   "metadata": {},
   "source": [
    "La convolution permet ainsi de mettre en lumière certaines inforamtions importantes dans une image. C'est pour cette raison qu'elle est abondamment utilisée dans les réseaux de neurones convolutif, CNN en anglais."
   ]
  },
  {
   "cell_type": "code",
   "execution_count": null,
   "metadata": {},
   "outputs": [],
   "source": []
  }
 ],
 "metadata": {
  "kernelspec": {
   "display_name": "Python 3",
   "language": "python",
   "name": "python3"
  },
  "language_info": {
   "codemirror_mode": {
    "name": "ipython",
    "version": 3
   },
   "file_extension": ".py",
   "mimetype": "text/x-python",
   "name": "python",
   "nbconvert_exporter": "python",
   "pygments_lexer": "ipython3",
   "version": "3.7.8"
  },
  "latex_envs": {
   "LaTeX_envs_menu_present": true,
   "autoclose": false,
   "autocomplete": true,
   "bibliofile": "biblio.bib",
   "cite_by": "apalike",
   "current_citInitial": 1,
   "eqLabelWithNumbers": true,
   "eqNumInitial": 1,
   "hotkeys": {
    "equation": "Ctrl-E",
    "itemize": "Ctrl-I"
   },
   "labels_anchors": false,
   "latex_user_defs": false,
   "report_style_numbering": false,
   "user_envs_cfg": false
  }
 },
 "nbformat": 4,
 "nbformat_minor": 2
}
