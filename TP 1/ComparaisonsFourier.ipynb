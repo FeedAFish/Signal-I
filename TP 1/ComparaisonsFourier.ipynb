{
 "cells": [
  {
   "cell_type": "markdown",
   "metadata": {},
   "source": [
    "# Comparaison des différentes transformées de Fourier."
   ]
  },
  {
   "cell_type": "code",
   "execution_count": null,
   "metadata": {},
   "outputs": [],
   "source": [
    "from __future__ import division\n",
    "import holoviews as hv\n",
    "hv.extension('bokeh')\n",
    "import param\n",
    "import holoviews as hv,panel as pn,param\n",
    "from holoviews.streams import Pipe\n",
    "import time\n",
    "import pandas as pd\n",
    "import panel as pn\n",
    "from panel.pane import LaTeX\n",
    "from scipy.io.wavfile import read\n",
    "from IPython.display import Audio\n",
    "import requests\n",
    "from io import BytesIO\n",
    "from PIL import Image\n",
    "import shutil\n",
    "from urllib.request import urlopen\n",
    "import io\n",
    "import scipy.io as sio\n",
    "\n",
    "import numpy as np\n",
    "import scipy as scp\n",
    "import pylab as pyl\n",
    "from matplotlib import cm\n",
    "import matplotlib.pyplot as plt\n",
    "from scipy import fftpack\n",
    "from matplotlib.pyplot import imshow as imageplot\n",
    "from mpl_toolkits.mplot3d import Axes3D\n",
    "import wave\n",
    "import warnings\n",
    "warnings.filterwarnings('ignore')"
   ]
  },
  {
   "cell_type": "markdown",
   "metadata": {},
   "source": [
    "# Lien entre les coefficients de Fourier d'une fonction périodique et la transformée de Fourier discrète."
   ]
  },
  {
   "cell_type": "markdown",
   "metadata": {},
   "source": [
    "Les programmes suivants vous permettent de comparer les coefficients de Fourier calculés de manière analytique de fonctions $2\\pi$-périodiques $f$ et les coefficients de la transformée de Fourier discrète calculée sur un vecteur qui est une version échantillonnée de la fonction $f$. Vous pouves modifier le nombre $2N+1$ de points sur lequel est calculé la transformée discrète. Les coefficients de Fourier sont eux affichés entre $-N$ et $N$. Comme il est démontré dans la feuille 5 on a convergence en un certain sens des coefficients de la transformée de Fourier discrète de la version échantillonnée de $f$ vers les coefficients de Fourier $c_n(f)$ calculés de manière analytique, cest-à-dire via la formule que vous connaisez bien. "
   ]
  },
  {
   "cell_type": "markdown",
   "metadata": {},
   "source": [
    "## Exemple 1 : La fonction carré."
   ]
  },
  {
   "cell_type": "code",
   "execution_count": null,
   "metadata": {},
   "outputs": [],
   "source": [
    "def f1(x):\n",
    "    y=np.mod(x+np.pi,2*np.pi)-np.pi\n",
    "    return y**2"
   ]
  },
  {
   "cell_type": "code",
   "execution_count": null,
   "metadata": {},
   "outputs": [],
   "source": [
    "def AfficheFourier1(N):\n",
    "    Coefs=np.zeros(2*N+1)\n",
    "    ind=np.arange(-N,N)\n",
    "    for k in ind:\n",
    "        if np.abs(k)>0:\n",
    "            Coefs[k+N]=2*((-1)**(np.abs(k))/(k**2))\n",
    "        else:\n",
    "            Coefs[k+N]=np.pi**2/3\n",
    "    C=hv.Points(Coefs,label='Coefficients de Fourier analytiques').opts(width=800)\n",
    "    return C"
   ]
  },
  {
   "cell_type": "code",
   "execution_count": null,
   "metadata": {},
   "outputs": [],
   "source": [
    "N=20\n",
    "t=np.linspace(0,2*np.pi,2*N+1)\n",
    "f=f1(t)\n",
    "hv.Curve((t,f),label='Fonction carré périodisée')"
   ]
  },
  {
   "cell_type": "code",
   "execution_count": null,
   "metadata": {},
   "outputs": [],
   "source": [
    "FT=np.real(fftpack.fft(f))/(2*N+1)\n",
    "FT2=fftpack.fftshift(FT)\n",
    "C=AfficheFourier1(N)\n",
    "hv.Points(FT2,label='Coefficients de TF Discrète')*C"
   ]
  },
  {
   "cell_type": "markdown",
   "metadata": {},
   "source": [
    "## Exemple 2, une fonction indicatrice."
   ]
  },
  {
   "cell_type": "code",
   "execution_count": null,
   "metadata": {},
   "outputs": [],
   "source": [
    "def f2(x,a):\n",
    "    y=np.mod(x,2*np.pi)\n",
    "    if y<a:\n",
    "        res=1\n",
    "    else:\n",
    "        res=0\n",
    "    return res\n",
    "vf2=np.vectorize(f2)"
   ]
  },
  {
   "cell_type": "code",
   "execution_count": null,
   "metadata": {},
   "outputs": [],
   "source": [
    "def AfficheFourier2(N,a):\n",
    "    Coefs=np.zeros(2*N+1)\n",
    "    ind=np.arange(-N,N)\n",
    "    for k in ind:\n",
    "        if np.abs(k)>0:\n",
    "            Coefs[k+N]=np.abs((np.exp(-1j*k*a)-1)/k)\n",
    "        else:\n",
    "            Coefs[k+N]=2*np.pi/a\n",
    "    C=hv.Points(Coefs,label='Coefficients de Fourier analytiques').opts(width=800)\n",
    "    return C"
   ]
  },
  {
   "cell_type": "code",
   "execution_count": null,
   "metadata": {},
   "outputs": [],
   "source": [
    "N=1000\n",
    "a=0.3\n",
    "eps=0.0000001\n",
    "t=np.linspace(0,2*np.pi-eps,2*N+1)\n",
    "f=vf2(t,a)\n",
    "hv.Curve((t,f),label='Fonction indicatrice')\n"
   ]
  },
  {
   "cell_type": "code",
   "execution_count": null,
   "metadata": {},
   "outputs": [],
   "source": [
    "FT=np.abs(fftpack.fft(f))/(2*N+1)\n",
    "FT2=fftpack.fftshift(FT)*2*np.pi\n",
    "C=AfficheFourier2(N,a)\n",
    "hv.Points(FT2,label='Coefficients de TF Discrète')*C.opts(ylim=(0,a))"
   ]
  },
  {
   "cell_type": "markdown",
   "metadata": {},
   "source": [
    "## Exemple 3, la fonction rampe."
   ]
  },
  {
   "cell_type": "code",
   "execution_count": null,
   "metadata": {},
   "outputs": [],
   "source": [
    "def f3(x):\n",
    "    y=np.mod(x,2*np.pi)\n",
    "    return y\n",
    "vf3=np.vectorize(f3)"
   ]
  },
  {
   "cell_type": "code",
   "execution_count": null,
   "metadata": {},
   "outputs": [],
   "source": [
    "def AfficheFourier3(N):\n",
    "    Coefs=np.zeros(2*N+1)\n",
    "    ind=np.arange(-N,N)\n",
    "    for k in ind:\n",
    "        if np.abs(k)>0:\n",
    "            Coefs[k+N]=np.abs(1/k)\n",
    "        else:\n",
    "            Coefs[k+N]=np.pi\n",
    "    C=hv.Points(Coefs,label='Coefficients de Fourier analytiques').opts(width=800)\n",
    "    return C"
   ]
  },
  {
   "cell_type": "code",
   "execution_count": null,
   "metadata": {},
   "outputs": [],
   "source": [
    "N=10\n",
    "eps=0.0000001\n",
    "t=np.linspace(0,2*np.pi-eps,2*N+1)\n",
    "f=vf3(t)\n",
    "hv.Curve((t,f),label='Fonction rampe')"
   ]
  },
  {
   "cell_type": "code",
   "execution_count": null,
   "metadata": {},
   "outputs": [],
   "source": [
    "FT=np.abs(fftpack.fft(f))/(2*N+1)\n",
    "FT2=fftpack.fftshift(FT)\n",
    "C=AfficheFourier3(N)\n",
    "hv.Points(FT2,label='Coefficients de TF Discrète')*C"
   ]
  },
  {
   "cell_type": "markdown",
   "metadata": {},
   "source": [
    "# Lien entre la transformée de Fourier sur et la Transformée de Fourier discrète."
   ]
  },
  {
   "cell_type": "markdown",
   "metadata": {},
   "source": [
    "## Exemple 1, une fonction indicatrice."
   ]
  },
  {
   "cell_type": "markdown",
   "metadata": {},
   "source": [
    "L'objet de cet exemple est de comparer la transformée de Fourier discrète et la transformée de Fourier continue d'une fonction. Si on considère la fonction $f$ qui est l'indicatrice de l'intervalle $[0,1]$, on sait que sa transformée de Fourier s'exprime :\n",
    "\\begin{equation}\n",
    "\\hat f(\\omega)=\\frac{e^{-i\\omega}-1}{-i\\omega}\n",
    "\\end{equation}\n",
    "On peut comparer (en module) cette formule avec la Transformée de Fourier discrète du vecteur obtenu par discrétisation de cette fonction. Vous pouvez faire varier la valeur de $N$ et voir que plus on discrétise finement plus la convergence est bonne."
   ]
  },
  {
   "cell_type": "code",
   "execution_count": null,
   "metadata": {},
   "outputs": [],
   "source": [
    "def tfind(omega):\n",
    "    a=1\n",
    "    return (np.exp(-1j*omega*a)-1)*1j/omega\n",
    "\n",
    "vtfind=np.vectorize(tfind)"
   ]
  },
  {
   "cell_type": "code",
   "execution_count": null,
   "metadata": {},
   "outputs": [],
   "source": [
    "N=50\n",
    "a=1\n",
    "eps=0.0000001\n",
    "t=np.linspace(0,2*np.pi-eps,2*N+1)\n",
    "f=vf2(t,a)\n",
    "hv.Curve((t,f),label='fonction indicatrice').opts(width=800)"
   ]
  },
  {
   "cell_type": "code",
   "execution_count": null,
   "metadata": {},
   "outputs": [],
   "source": [
    "\n",
    "FT=np.abs(fftpack.fft(f))/(2*N+1)\n",
    "FT2=fftpack.fftshift(FT)*2*np.pi\n",
    "t=np.linspace(-N,N,2*N+1)\n",
    "tf=np.abs(vtfind(t))\n",
    "C3=hv.Curve(tf,label='Transformée de Fourier continue')\n",
    "C3*hv.Points(FT2,label='Coefficients de TF Discrète').opts(ylim=(0,a),color='red').opts(width=800)\n"
   ]
  },
  {
   "cell_type": "markdown",
   "metadata": {},
   "source": [
    "## Exemple 2, la gaussienne."
   ]
  },
  {
   "cell_type": "code",
   "execution_count": null,
   "metadata": {},
   "outputs": [],
   "source": [
    "def gaus(t):\n",
    "    return np.exp(-t**2/2)\n",
    "vgaus=np.vectorize(gaus)"
   ]
  },
  {
   "cell_type": "code",
   "execution_count": null,
   "metadata": {},
   "outputs": [],
   "source": [
    "N=81\n",
    "A=np.sqrt(N*np.pi/2)\n",
    "t=np.linspace(-A,A,N)\n",
    "fg=gaus(t)\n",
    "hv.Curve((t,fg),label='Gaussienne').opts(width=800)\n"
   ]
  },
  {
   "cell_type": "markdown",
   "metadata": {},
   "source": [
    "On rappelle que la transformée de Fourier de la gaussienne est la gaussienne à facteur multiplciatif près, comme il l'est démontré en TD. Plus $N$ est grand, plus on est proche de la vraie transformée de Fourier. De fait les points rouges ne sont pas exactement sur la courbe bleu."
   ]
  },
  {
   "cell_type": "code",
   "execution_count": null,
   "metadata": {},
   "outputs": [],
   "source": [
    "Cg1=hv.Curve((t,fg/np.sqrt(2)),label='Transformée analytique de Fourier de la Gaussienne').opts(width=800)\n",
    "FT=np.abs(fftpack.fft(fg))/np.sqrt((2*N+1))\n",
    "FT2=fftpack.fftshift(FT)\n",
    "Cg2=hv.Points((t,np.abs(FT2)),label='TF discrète de la gaussienne échantillonnée').opts(width=800,color='red')\n",
    "Cg1*Cg2"
   ]
  },
  {
   "cell_type": "markdown",
   "metadata": {},
   "source": [
    "## Exemple 3 : La gaussienne avec une variance non unitaire."
   ]
  },
  {
   "cell_type": "markdown",
   "metadata": {},
   "source": [
    "Nous avons vu en cours que la dilatation en espace induisait une contraction dans le domaine de Fourier. On peut bien entendu l'observer numériquement en faisant varier le paramètre de variance dans la gaussienne. Vous pouvez faire quelques tests en faisant varier sigma dans le programme ci dessous. Vous oberseveez cependant une différence notoire entre la transformée discrète et la trasnformée continue analytique si sigma est trop grand... ceci est dû au fait que dès qu'on travaille en discret, on périodise moralement le signal... ce qui fait que si la variance est trop grande, les différentes gaussiennes issues de la périodisation se téléscopent... nous aurons un problème analogue quand nous traiterons de l'écahntillonnage des signaux."
   ]
  },
  {
   "cell_type": "code",
   "execution_count": null,
   "metadata": {},
   "outputs": [],
   "source": [
    "sigma=0.1\n",
    "def gaus2(t):\n",
    "    return np.exp(-sigma*t**2/2)\n",
    "def gaus3(t):\n",
    "    return np.exp(-t**2/(sigma*2))\n",
    "N=81\n",
    "A=np.sqrt(N*np.pi/2)\n",
    "t=np.linspace(-A,A,N)\n",
    "fg2=gaus2(t)\n",
    "fg3=gaus3(t)\n",
    "Cg1=hv.Curve((t,fg3/np.sqrt(2)),label='Transformée analytique de Fourier de la Gaussienne').opts(width=800)\n",
    "FT=np.abs(fftpack.fft(fg2))/np.sqrt((2*N+1)/sigma)\n",
    "FT2=fftpack.fftshift(FT)\n",
    "Cg2=hv.Points((t,np.abs(FT2)),label='TF discrète de la gaussienne échantillonnée').opts(width=800,color='red')\n",
    "Cg1*Cg2"
   ]
  },
  {
   "cell_type": "code",
   "execution_count": null,
   "metadata": {},
   "outputs": [],
   "source": []
  }
 ],
 "metadata": {
  "kernelspec": {
   "display_name": "Python 3",
   "language": "python",
   "name": "python3"
  },
  "language_info": {
   "codemirror_mode": {
    "name": "ipython",
    "version": 3
   },
   "file_extension": ".py",
   "mimetype": "text/x-python",
   "name": "python",
   "nbconvert_exporter": "python",
   "pygments_lexer": "ipython3",
   "version": "3.7.8"
  },
  "latex_envs": {
   "LaTeX_envs_menu_present": true,
   "autoclose": false,
   "autocomplete": true,
   "bibliofile": "biblio.bib",
   "cite_by": "apalike",
   "current_citInitial": 1,
   "eqLabelWithNumbers": true,
   "eqNumInitial": 1,
   "hotkeys": {
    "equation": "Ctrl-E",
    "itemize": "Ctrl-I"
   },
   "labels_anchors": false,
   "latex_user_defs": false,
   "report_style_numbering": false,
   "user_envs_cfg": false
  }
 },
 "nbformat": 4,
 "nbformat_minor": 2
}
